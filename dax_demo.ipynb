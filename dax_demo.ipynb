{
 "metadata": {
  "name": "",
  "signature": "sha256:a77b1e3924f1825cd3d01476494a9431b5c3bc0f9e5a0ea7924dc8addf1db047"
 },
 "nbformat": 3,
 "nbformat_minor": 0,
 "worksheets": [
  {
   "cells": [
    {
     "cell_type": "code",
     "collapsed": false,
     "input": [
      "import epi_prediction\n",
      "src_dir = '/home/lbuser/data/chuyu/process_normalize/'\n",
      "control_filter = lambda file_name: 'CON' in file_name\n",
      "patient_filter = lambda file_name: 'PAT' in file_name"
     ],
     "language": "python",
     "metadata": {},
     "outputs": [],
     "prompt_number": 84
    },
    {
     "cell_type": "code",
     "collapsed": false,
     "input": [
      "epi_paths = epi_prediction.get_epi_paths(src_dir, patient_filter, control_filter)\n",
      "epi_paths"
     ],
     "language": "python",
     "metadata": {},
     "outputs": [
      {
       "html": [
        "<div style=\"max-height:1000px;max-width:1500px;overflow:auto;\">\n",
        "<table border=\"1\" class=\"dataframe\">\n",
        "  <thead>\n",
        "    <tr style=\"text-align: right;\">\n",
        "      <th></th>\n",
        "      <th>dax</th>\n",
        "      <th>dmean</th>\n",
        "      <th>drad</th>\n",
        "      <th>fa</th>\n",
        "      <th>kax</th>\n",
        "      <th>kmean</th>\n",
        "      <th>krad</th>\n",
        "    </tr>\n",
        "  </thead>\n",
        "  <tbody>\n",
        "    <tr>\n",
        "      <th>cons</th>\n",
        "      <td> [/home/lbuser/data/chuyu/process_normalize/dax...</td>\n",
        "      <td> [/home/lbuser/data/chuyu/process_normalize/dme...</td>\n",
        "      <td> [/home/lbuser/data/chuyu/process_normalize/dra...</td>\n",
        "      <td> [/home/lbuser/data/chuyu/process_normalize/fa/...</td>\n",
        "      <td> [/home/lbuser/data/chuyu/process_normalize/kax...</td>\n",
        "      <td> [/home/lbuser/data/chuyu/process_normalize/kme...</td>\n",
        "      <td> [/home/lbuser/data/chuyu/process_normalize/kra...</td>\n",
        "    </tr>\n",
        "    <tr>\n",
        "      <th>pats</th>\n",
        "      <td> [/home/lbuser/data/chuyu/process_normalize/dax...</td>\n",
        "      <td> [/home/lbuser/data/chuyu/process_normalize/dme...</td>\n",
        "      <td> [/home/lbuser/data/chuyu/process_normalize/dra...</td>\n",
        "      <td> [/home/lbuser/data/chuyu/process_normalize/fa/...</td>\n",
        "      <td> [/home/lbuser/data/chuyu/process_normalize/kax...</td>\n",
        "      <td> [/home/lbuser/data/chuyu/process_normalize/kme...</td>\n",
        "      <td> [/home/lbuser/data/chuyu/process_normalize/kra...</td>\n",
        "    </tr>\n",
        "  </tbody>\n",
        "</table>\n",
        "</div>"
       ],
       "metadata": {},
       "output_type": "pyout",
       "prompt_number": 85,
       "text": [
        "                                                    dax  \\\n",
        "cons  [/home/lbuser/data/chuyu/process_normalize/dax...   \n",
        "pats  [/home/lbuser/data/chuyu/process_normalize/dax...   \n",
        "\n",
        "                                                  dmean  \\\n",
        "cons  [/home/lbuser/data/chuyu/process_normalize/dme...   \n",
        "pats  [/home/lbuser/data/chuyu/process_normalize/dme...   \n",
        "\n",
        "                                                   drad  \\\n",
        "cons  [/home/lbuser/data/chuyu/process_normalize/dra...   \n",
        "pats  [/home/lbuser/data/chuyu/process_normalize/dra...   \n",
        "\n",
        "                                                     fa  \\\n",
        "cons  [/home/lbuser/data/chuyu/process_normalize/fa/...   \n",
        "pats  [/home/lbuser/data/chuyu/process_normalize/fa/...   \n",
        "\n",
        "                                                    kax  \\\n",
        "cons  [/home/lbuser/data/chuyu/process_normalize/kax...   \n",
        "pats  [/home/lbuser/data/chuyu/process_normalize/kax...   \n",
        "\n",
        "                                                  kmean  \\\n",
        "cons  [/home/lbuser/data/chuyu/process_normalize/kme...   \n",
        "pats  [/home/lbuser/data/chuyu/process_normalize/kme...   \n",
        "\n",
        "                                                   krad  \n",
        "cons  [/home/lbuser/data/chuyu/process_normalize/kra...  \n",
        "pats  [/home/lbuser/data/chuyu/process_normalize/kra...  "
       ]
      }
     ],
     "prompt_number": 85
    },
    {
     "cell_type": "markdown",
     "metadata": {},
     "source": [
      "We are going to run classification with dax for this demo"
     ]
    },
    {
     "cell_type": "code",
     "collapsed": false,
     "input": [
      "dax_paths = epi_paths['dax']\n",
      "dax_paths"
     ],
     "language": "python",
     "metadata": {},
     "outputs": [
      {
       "metadata": {},
       "output_type": "pyout",
       "prompt_number": 86,
       "text": [
        "cons    [/home/lbuser/data/chuyu/process_normalize/dax...\n",
        "pats    [/home/lbuser/data/chuyu/process_normalize/dax...\n",
        "Name: dax, dtype: object"
       ]
      }
     ],
     "prompt_number": 86
    },
    {
     "cell_type": "code",
     "collapsed": false,
     "input": [
      "(training, test) = epi_prediction.split_training_test(dax_paths, .67)\n",
      "\"training cons: {}, pats: {}; test cons: {}, pats {}\".\\\n",
      "format(len(training['cons']), len(training['pats']), len(test['cons']), len(test['pats']))"
     ],
     "language": "python",
     "metadata": {},
     "outputs": [
      {
       "metadata": {},
       "output_type": "pyout",
       "prompt_number": 87,
       "text": [
        "'training cons: 24, pats: 21; test cons: 12, pats 11'"
       ]
      }
     ],
     "prompt_number": 87
    },
    {
     "cell_type": "markdown",
     "metadata": {},
     "source": [
      "Generate a masker for transforming list of 3D images to 2D feature matrix used for classification\n",
      "As an added bonus, masker only transforms from the voxels that usually have data"
     ]
    },
    {
     "cell_type": "code",
     "collapsed": false,
     "input": [
      "masker = epi_prediction.masker(training['cons'] + training['pats'])\n",
      "import matplotlib.pyplot as plt\n",
      "from nilearn.plotting import plot_img\n",
      "plot_img(masker.mask_img_)\n",
      "plt.show()"
     ],
     "language": "python",
     "metadata": {},
     "outputs": [
      {
       "metadata": {},
       "output_type": "display_data",
       "png": "[encoded data removed]",
       "text": [
        "<matplotlib.figure.Figure at 0x7fd22613b790>"
       ]
      }
     ],
     "prompt_number": 88
    },
    {
     "cell_type": "code",
     "collapsed": false,
     "input": [
      "#The middle of the mask is 1, the edges are 0\n",
      "d = masker.mask_img_.get_data()\n",
      "d.shape"
     ],
     "language": "python",
     "metadata": {},
     "outputs": [
      {
       "metadata": {},
       "output_type": "pyout",
       "prompt_number": 89,
       "text": [
        "(182, 218, 182)"
       ]
      }
     ],
     "prompt_number": 89
    },
    {
     "cell_type": "code",
     "collapsed": false,
     "input": [
      "\"edge value is {}, center is {}\".format(d[0][0][0], d[90][114][90])"
     ],
     "language": "python",
     "metadata": {},
     "outputs": [
      {
       "metadata": {},
       "output_type": "pyout",
       "prompt_number": 90,
       "text": [
        "'edge value is 0, center is 1'"
       ]
      }
     ],
     "prompt_number": 90
    },
    {
     "cell_type": "code",
     "collapsed": false,
     "input": [
      "\"will transform {} voxels out of {}\".format(sum(d.flatten()), len(d.flatten())) "
     ],
     "language": "python",
     "metadata": {},
     "outputs": [
      {
       "metadata": {},
       "output_type": "pyout",
       "prompt_number": 91,
       "text": [
        "'will transform 2046153 voxels out of 7221032'"
       ]
      }
     ],
     "prompt_number": 91
    },
    {
     "cell_type": "code",
     "collapsed": false,
     "input": [
      "training_matrix = epi_prediction.data_to_2d(training['cons'] + training['pats'], masker)"
     ],
     "language": "python",
     "metadata": {},
     "outputs": [],
     "prompt_number": 92
    },
    {
     "cell_type": "code",
     "collapsed": false,
     "input": [
      "training_matrix.shape #should be number of subjects by number of voxels"
     ],
     "language": "python",
     "metadata": {},
     "outputs": [
      {
       "metadata": {},
       "output_type": "pyout",
       "prompt_number": 93,
       "text": [
        "(45, 2046153)"
       ]
      }
     ],
     "prompt_number": 93
    },
    {
     "cell_type": "code",
     "collapsed": false,
     "input": [
      "training_labels = [0] * len(training['cons']) + [1] * len(training['pats'])"
     ],
     "language": "python",
     "metadata": {},
     "outputs": [],
     "prompt_number": 94
    },
    {
     "cell_type": "code",
     "collapsed": false,
     "input": [
      "#Machine Learning pipeline runs anova then SVC\n",
      "#Anova to reduce dimensions to num_dims input\n",
      "#SVC algorithm performs classification\n",
      "num_dims = 500\n",
      "anova_then_svc = epi_prediction.train(training_matrix, training_labels, num_dims)"
     ],
     "language": "python",
     "metadata": {},
     "outputs": [],
     "prompt_number": 95
    },
    {
     "cell_type": "code",
     "collapsed": false,
     "input": [
      "#Can view the steps\n",
      "anova_then_svc.named_steps['anova'] "
     ],
     "language": "python",
     "metadata": {},
     "outputs": [
      {
       "metadata": {},
       "output_type": "pyout",
       "prompt_number": 96,
       "text": [
        "SelectKBest(k=500, score_func=<function f_classif at 0x7fd2284d8320>)"
       ]
      }
     ],
     "prompt_number": 96
    },
    {
     "cell_type": "code",
     "collapsed": false,
     "input": [
      "anova_then_svc.steps"
     ],
     "language": "python",
     "metadata": {},
     "outputs": [
      {
       "metadata": {},
       "output_type": "pyout",
       "prompt_number": 97,
       "text": [
        "[('anova',\n",
        "  SelectKBest(k=500, score_func=<function f_classif at 0x7fd2284d8320>)),\n",
        " ('svc',\n",
        "  SVC(C=1.0, cache_size=200, class_weight=None, coef0=0.0, degree=3, gamma=0.0,\n",
        "    kernel='linear', max_iter=-1, probability=False, random_state=None,\n",
        "    shrinking=True, tol=0.001, verbose=False))]"
       ]
      }
     ],
     "prompt_number": 97
    },
    {
     "cell_type": "markdown",
     "metadata": {},
     "source": [
      "The model is created so will run on test data"
     ]
    },
    {
     "cell_type": "code",
     "collapsed": false,
     "input": [
      "test_matrix = epi_prediction.data_to_2d(test['cons'] + test['pats'], masker)"
     ],
     "language": "python",
     "metadata": {},
     "outputs": [],
     "prompt_number": 98
    },
    {
     "cell_type": "code",
     "collapsed": false,
     "input": [
      "test_matrix.shape"
     ],
     "language": "python",
     "metadata": {},
     "outputs": [
      {
       "metadata": {},
       "output_type": "pyout",
       "prompt_number": 99,
       "text": [
        "(23, 2046153)"
       ]
      }
     ],
     "prompt_number": 99
    },
    {
     "cell_type": "code",
     "collapsed": false,
     "input": [
      "predictions = anova_then_svc.predict(test_matrix)"
     ],
     "language": "python",
     "metadata": {},
     "outputs": [],
     "prompt_number": 100
    },
    {
     "cell_type": "code",
     "collapsed": false,
     "input": [
      "expected = [0] * len(test['cons']) + [1] * len(test['pats'])"
     ],
     "language": "python",
     "metadata": {},
     "outputs": [],
     "prompt_number": 101
    },
    {
     "cell_type": "code",
     "collapsed": false,
     "input": [
      "anova_then_svc.score(test_matrix, expected)"
     ],
     "language": "python",
     "metadata": {},
     "outputs": [
      {
       "metadata": {},
       "output_type": "pyout",
       "prompt_number": 102,
       "text": [
        "0.86956521739130432"
       ]
      }
     ],
     "prompt_number": 102
    },
    {
     "cell_type": "code",
     "collapsed": false,
     "input": [
      "import numpy as np\n",
      "is_mis_labeled = np.logical_xor(predictions, expected)\n",
      "is_mis_labeled"
     ],
     "language": "python",
     "metadata": {},
     "outputs": [
      {
       "metadata": {},
       "output_type": "pyout",
       "prompt_number": 103,
       "text": [
        "array([False, False, False, False, False, False, False,  True, False,\n",
        "       False, False, False, False, False, False, False, False, False,\n",
        "       False, False, False,  True,  True], dtype=bool)"
       ]
      }
     ],
     "prompt_number": 103
    },
    {
     "cell_type": "code",
     "collapsed": false,
     "input": [
      "is_correct_label = np.logical_not(mis_labels)\n",
      "is_correct_label"
     ],
     "language": "python",
     "metadata": {},
     "outputs": [
      {
       "metadata": {},
       "output_type": "pyout",
       "prompt_number": 104,
       "text": [
        "array([ True,  True,  True,  True,  True,  True,  True, False,  True,\n",
        "        True,  True,  True,  True,  True,  True,  True,  True,  True,\n",
        "        True,  True,  True, False, False], dtype=bool)"
       ]
      }
     ],
     "prompt_number": 104
    },
    {
     "cell_type": "code",
     "collapsed": false,
     "input": [
      "from sklearn.metrics import f1_score\n",
      "f1_score(expected, predictions)"
     ],
     "language": "python",
     "metadata": {},
     "outputs": [
      {
       "metadata": {},
       "output_type": "pyout",
       "prompt_number": 105,
       "text": [
        "0.85714285714285721"
       ]
      }
     ],
     "prompt_number": 105
    },
    {
     "cell_type": "code",
     "collapsed": false,
     "input": [
      "false_positives = np.logical_and(is_mis_labeled, np.logical_not(expected))\n",
      "false_positives"
     ],
     "language": "python",
     "metadata": {},
     "outputs": [
      {
       "metadata": {},
       "output_type": "pyout",
       "prompt_number": 106,
       "text": [
        "array([False, False, False, False, False, False, False,  True, False,\n",
        "       False, False, False, False, False, False, False, False, False,\n",
        "       False, False, False, False, False], dtype=bool)"
       ]
      }
     ],
     "prompt_number": 106
    },
    {
     "cell_type": "code",
     "collapsed": false,
     "input": [
      "false_negatives = np.logical_and(is_mis_labeled, expected)\n",
      "false_negatives"
     ],
     "language": "python",
     "metadata": {},
     "outputs": [
      {
       "metadata": {},
       "output_type": "pyout",
       "prompt_number": 107,
       "text": [
        "array([False, False, False, False, False, False, False, False, False,\n",
        "       False, False, False, False, False, False, False, False, False,\n",
        "       False, False, False,  True,  True], dtype=bool)"
       ]
      }
     ],
     "prompt_number": 107
    },
    {
     "cell_type": "code",
     "collapsed": false,
     "input": [],
     "language": "python",
     "metadata": {},
     "outputs": []
    }
   ],
   "metadata": {}
  }
 ]
}
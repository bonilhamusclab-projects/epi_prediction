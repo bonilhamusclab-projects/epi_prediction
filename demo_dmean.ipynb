{
 "cells": [
  {
   "cell_type": "code",
   "execution_count": 1,
   "metadata": {
    "collapsed": false
   },
   "outputs": [],
   "source": [
    "%matplotlib inline"
   ]
  },
  {
   "cell_type": "markdown",
   "metadata": {},
   "source": [
    "##Import Data"
   ]
  },
  {
   "cell_type": "code",
   "execution_count": 2,
   "metadata": {
    "collapsed": false
   },
   "outputs": [],
   "source": [
    "import epi_prediction\n",
    "src_dir = '/Users/johnbonihalab/data/chuyu/modalities'\n",
    "control_filter = lambda file_name: 'CON' in file_name\n",
    "patient_filter = lambda file_name: 'PAT' in file_name"
   ]
  },
  {
   "cell_type": "code",
   "execution_count": 3,
   "metadata": {
    "collapsed": false
   },
   "outputs": [],
   "source": [
    "epi_paths = epi_prediction.get_epi_paths(src_dir, patient_filter, control_filter)\n"
   ]
  },
  {
   "cell_type": "code",
   "execution_count": 4,
   "metadata": {
    "collapsed": false
   },
   "outputs": [],
   "source": [
    "mod_paths = epi_paths['dmean']"
   ]
  },
  {
   "cell_type": "code",
   "execution_count": 5,
   "metadata": {
    "collapsed": false
   },
   "outputs": [
    {
     "data": {
      "text/plain": [
       "cons    [/Users/johnbonihalab/data/chuyu/modalities/dm...\n",
       "pats    [/Users/johnbonihalab/data/chuyu/modalities/dm...\n",
       "Name: dmean, dtype: object"
      ]
     },
     "execution_count": 5,
     "metadata": {},
     "output_type": "execute_result"
    }
   ],
   "source": [
    "mod_paths"
   ]
  },
  {
   "cell_type": "code",
   "execution_count": 6,
   "metadata": {
    "collapsed": false
   },
   "outputs": [],
   "source": [
    "labels = len(mod_paths['pats']) * [1] + len(mod_paths['cons']) * [0]"
   ]
  },
  {
   "cell_type": "code",
   "execution_count": 7,
   "metadata": {
    "collapsed": false
   },
   "outputs": [
    {
     "data": {
      "text/plain": [
       "68"
      ]
     },
     "execution_count": 7,
     "metadata": {},
     "output_type": "execute_result"
    }
   ],
   "source": [
    "len(labels)"
   ]
  },
  {
   "cell_type": "markdown",
   "metadata": {},
   "source": [
    "##Load White Matter Mask"
   ]
  },
  {
   "cell_type": "code",
   "execution_count": 8,
   "metadata": {
    "collapsed": false
   },
   "outputs": [],
   "source": [
    "white_matter = epi_prediction.SimpleMasker('masks/white.nii', threshold=.2)"
   ]
  },
  {
   "cell_type": "code",
   "execution_count": 9,
   "metadata": {
    "collapsed": false
   },
   "outputs": [
    {
     "name": "stdout",
     "output_type": "stream",
     "text": [
      "--------------------------------------------------------------------\n",
      "####################################################################"
     ]
    }
   ],
   "source": [
    "mat = white_matter.transform_many(mod_paths['pats'] + mod_paths['cons'], verbose=True)"
   ]
  },
  {
   "cell_type": "markdown",
   "metadata": {},
   "source": [
    "##Retrieve the Voxels"
   ]
  },
  {
   "cell_type": "markdown",
   "metadata": {},
   "source": [
    "__Retrieving Important Voxels Requires Linear Classifier__"
   ]
  },
  {
   "cell_type": "code",
   "execution_count": 10,
   "metadata": {
    "collapsed": true
   },
   "outputs": [],
   "source": [
    "from nilearn.input_data import NiftiMasker\n",
    "import numpy as np\n",
    "from sklearn.cross_validation import StratifiedKFold, cross_val_score\n",
    "from sklearn.feature_selection import SelectKBest, f_classif\n",
    "from sklearn.grid_search import GridSearchCV\n",
    "from sklearn.pipeline import Pipeline\n",
    "from sklearn.svm import SVC"
   ]
  },
  {
   "cell_type": "code",
   "execution_count": 11,
   "metadata": {
    "collapsed": false
   },
   "outputs": [],
   "source": [
    "n_folds = 6\n",
    "svc = SVC()\n",
    "anova_svc_lin = Pipeline( [('anova', SelectKBest(k=500)), ('svc', svc)] )\n",
    "anova_svc_lin.set_params(svc__kernel='linear')\n",
    "cv = StratifiedKFold(labels, n_folds=6)\n",
    "labels_arr = np.array(labels)"
   ]
  },
  {
   "cell_type": "code",
   "execution_count": 12,
   "metadata": {
    "collapsed": false,
    "scrolled": true
   },
   "outputs": [
    {
     "name": "stdout",
     "output_type": "stream",
     "text": [
      "------------------------------------------------------------------------------------\n",
      "##############################################################################################################################"
     ]
    },
    {
     "data": {
      "text/plain": [
       "GridSearchCV(cv=sklearn.cross_validation.StratifiedKFold(labels=[1 1 ..., 0 0], n_folds=6, shuffle=False, random_state=None),\n",
       "       error_score='raise',\n",
       "       estimator=Pipeline(steps=[('anova', SelectKBest(k=500, score_func=<function f_classif at 0x10c772c08>)), ('svc', SVC(C=1.0, cache_size=200, class_weight=None, coef0=0.0, degree=3, gamma=0.0,\n",
       "  kernel='linear', max_iter=-1, probability=False, random_state=None,\n",
       "  shrinking=True, tol=0.001, verbose=False))]),\n",
       "       fit_params={}, iid=True, loss_func=None, n_jobs=1,\n",
       "       param_grid={'anova__k': array([ 500, 1250, 2000]), 'svc__C': array([  1.00000e-03,   1.00000e-02,   1.00000e-01,   1.00000e+00,\n",
       "         1.00000e+01,   1.00000e+02,   1.00000e+03])},\n",
       "       pre_dispatch='2*n_jobs', refit=True, score_func=None,\n",
       "       scoring=make_scorer(verbose_score_fn), verbose=0)"
      ]
     },
     "execution_count": 12,
     "metadata": {},
     "output_type": "execute_result"
    }
   ],
   "source": [
    "C_range_lin = np.logspace(-3, 3, 7)\n",
    "k_range = np.linspace(500,2000,3).astype(int)\n",
    "\n",
    "total_runs = len(C_range_lin) * 2 * len(k_range) * 2\n",
    "\n",
    "scorer = epi_prediction.verbose_scorer(total_runs)\n",
    "grid_lin = GridSearchCV(anova_svc_lin, param_grid={\"svc__C\": C_range_lin,\"anova__k\" :k_range}, cv=cv, scoring = scorer)\n",
    "\n",
    "grid_lin.fit(mat, labels_arr)"
   ]
  },
  {
   "cell_type": "code",
   "execution_count": 13,
   "metadata": {
    "collapsed": false
   },
   "outputs": [
    {
     "data": {
      "text/plain": [
       "[mean: 0.58889, std: 0.19303, params: {'anova__k': 500, 'svc__C': 0.001},\n",
       " mean: 0.69020, std: 0.13056, params: {'anova__k': 500, 'svc__C': 0.01},\n",
       " mean: 0.69265, std: 0.14039, params: {'anova__k': 500, 'svc__C': 0.10000000000000001},\n",
       " mean: 0.64751, std: 0.12043, params: {'anova__k': 500, 'svc__C': 1.0},\n",
       " mean: 0.64751, std: 0.12043, params: {'anova__k': 500, 'svc__C': 10.0},\n",
       " mean: 0.64751, std: 0.12043, params: {'anova__k': 500, 'svc__C': 100.0},\n",
       " mean: 0.64751, std: 0.12043, params: {'anova__k': 500, 'svc__C': 1000.0},\n",
       " mean: 0.63324, std: 0.15238, params: {'anova__k': 1250, 'svc__C': 0.001},\n",
       " mean: 0.65514, std: 0.13890, params: {'anova__k': 1250, 'svc__C': 0.01},\n",
       " mean: 0.70049, std: 0.10858, params: {'anova__k': 1250, 'svc__C': 0.10000000000000001},\n",
       " mean: 0.70049, std: 0.10858, params: {'anova__k': 1250, 'svc__C': 1.0},\n",
       " mean: 0.70049, std: 0.10858, params: {'anova__k': 1250, 'svc__C': 10.0},\n",
       " mean: 0.70049, std: 0.10858, params: {'anova__k': 1250, 'svc__C': 100.0},\n",
       " mean: 0.70049, std: 0.10858, params: {'anova__k': 1250, 'svc__C': 1000.0},\n",
       " mean: 0.67255, std: 0.17743, params: {'anova__k': 2000, 'svc__C': 0.001},\n",
       " mean: 0.65425, std: 0.16031, params: {'anova__k': 2000, 'svc__C': 0.01},\n",
       " mean: 0.73506, std: 0.09824, params: {'anova__k': 2000, 'svc__C': 0.10000000000000001},\n",
       " mean: 0.73506, std: 0.09824, params: {'anova__k': 2000, 'svc__C': 1.0},\n",
       " mean: 0.73506, std: 0.09824, params: {'anova__k': 2000, 'svc__C': 10.0},\n",
       " mean: 0.73506, std: 0.09824, params: {'anova__k': 2000, 'svc__C': 100.0},\n",
       " mean: 0.73506, std: 0.09824, params: {'anova__k': 2000, 'svc__C': 1000.0}]"
      ]
     },
     "execution_count": 13,
     "metadata": {},
     "output_type": "execute_result"
    }
   ],
   "source": [
    "grid_lin.grid_scores_"
   ]
  },
  {
   "cell_type": "code",
   "execution_count": 14,
   "metadata": {
    "collapsed": false
   },
   "outputs": [
    {
     "data": {
      "text/plain": [
       "Pipeline(steps=[('anova', SelectKBest(k=500, score_func=<function f_classif at 0x10c772c08>)), ('svc', SVC(C=0.1, cache_size=200, class_weight=None, coef0=0.0, degree=3, gamma=0.0,\n",
       "  kernel='linear', max_iter=-1, probability=False, random_state=None,\n",
       "  shrinking=True, tol=0.001, verbose=False))])"
      ]
     },
     "execution_count": 14,
     "metadata": {},
     "output_type": "execute_result"
    }
   ],
   "source": [
    "anova_svc_lin.set_params(svc__C=.1, anova__k=500) #best k is using 2000, but pre C of C was 500"
   ]
  },
  {
   "cell_type": "code",
   "execution_count": 15,
   "metadata": {
    "collapsed": false
   },
   "outputs": [],
   "source": [
    "svc = anova_svc_lin.named_steps['svc']\n",
    "anova = anova_svc_lin.named_steps['anova']"
   ]
  },
  {
   "cell_type": "code",
   "execution_count": 16,
   "metadata": {
    "collapsed": false
   },
   "outputs": [],
   "source": [
    "coeffs = np.zeros(white_matter._mask_image.shape)\n",
    "for train, test in cv:\n",
    "    anova_svc_lin.fit(mat[train], labels_arr[train])\n",
    "    coeffs = coeffs + np.abs(white_matter.inv_transform(anova.inverse_transform(svc.coef_)))"
   ]
  },
  {
   "cell_type": "code",
   "execution_count": 17,
   "metadata": {
    "collapsed": false
   },
   "outputs": [
    {
     "data": {
      "text/plain": [
       "(91, 109, 91)"
      ]
     },
     "execution_count": 17,
     "metadata": {},
     "output_type": "execute_result"
    }
   ],
   "source": [
    "coeffs.shape"
   ]
  },
  {
   "cell_type": "code",
   "execution_count": 18,
   "metadata": {
    "collapsed": false
   },
   "outputs": [
    {
     "data": {
      "text/plain": [
       "<nilearn.plotting.displays.OrthoProjector at 0x10cc95550>"
      ]
     },
     "execution_count": 18,
     "metadata": {},
     "output_type": "execute_result"
    },
    {
     "name": "stderr",
     "output_type": "stream",
     "text": [
      "//anaconda/lib/python2.7/site-packages/matplotlib/collections.py:590: FutureWarning: elementwise comparison failed; returning scalar instead, but in the future will perform elementwise comparison\n",
      "  if self._edgecolors == str('face'):\n"
     ]
    },
    {
     "data": {
      "image/png": "[encoded data removed]",
      "text/plain": [
       "<matplotlib.figure.Figure at 0x1084682d0>"
      ]
     },
     "metadata": {},
     "output_type": "display_data"
    }
   ],
   "source": [
    "import nibabel as nib\n",
    "\n",
    "from nilearn.plotting import plot_glass_brain\n",
    "coeffs_normalized = coeffs/np.max(coeffs)\n",
    "plot_glass_brain(nib.Nifti1Image(coeffs_normalized, \n",
    "                                 affine = white_matter._mask_image.get_affine()), \n",
    "                 title=\"dMean\",\n",
    "                 colorbar=True)"
   ]
  },
  {
   "cell_type": "code",
   "execution_count": 19,
   "metadata": {
    "collapsed": false
   },
   "outputs": [
    {
     "data": {
      "text/plain": [
       "1650"
      ]
     },
     "execution_count": 19,
     "metadata": {},
     "output_type": "execute_result"
    }
   ],
   "source": [
    "np.sum(coeffs_normalized > 0)"
   ]
  },
  {
   "cell_type": "markdown",
   "metadata": {},
   "source": [
    "##Generate Linear Confusion Matrix"
   ]
  },
  {
   "cell_type": "code",
   "execution_count": 20,
   "metadata": {
    "collapsed": false
   },
   "outputs": [
    {
     "name": "stdout",
     "output_type": "stream",
     "text": [
      "####\n",
      "####\n",
      "####\n",
      "####\n",
      "####\n",
      "####\n"
     ]
    }
   ],
   "source": [
    "cv_info_lin, cv_info_train_lin = epi_prediction.verbose_cv(mat, labels_arr, anova_svc_lin, n_folds=6, verbose=False)"
   ]
  },
  {
   "cell_type": "code",
   "execution_count": 21,
   "metadata": {
    "collapsed": false
   },
   "outputs": [
    {
     "data": {
      "text/plain": [
       "array([[27,  9],\n",
       "       [10, 22]])"
      ]
     },
     "execution_count": 21,
     "metadata": {},
     "output_type": "execute_result"
    }
   ],
   "source": [
    "cv_info_lin.confusion_matrix()"
   ]
  },
  {
   "cell_type": "code",
   "execution_count": 22,
   "metadata": {
    "collapsed": false
   },
   "outputs": [
    {
     "data": {
      "text/plain": [
       "array([[ 0.75  ,  0.25  ],\n",
       "       [ 0.3125,  0.6875]])"
      ]
     },
     "execution_count": 22,
     "metadata": {},
     "output_type": "execute_result"
    }
   ],
   "source": [
    "cv_info_lin.normalized_confusion_matrix()"
   ]
  },
  {
   "cell_type": "code",
   "execution_count": 23,
   "metadata": {
    "collapsed": false
   },
   "outputs": [
    {
     "data": {
      "image/png": "[encoded data removed]",
      "text/plain": [
       "<matplotlib.figure.Figure at 0x10cbae1d0>"
      ]
     },
     "metadata": {},
     "output_type": "display_data"
    }
   ],
   "source": [
    "epi_prediction.plot_confusion_matrix(cv_info_lin.normalized_confusion_matrix(), \"dMean Confusion Matrix\")"
   ]
  },
  {
   "cell_type": "code",
   "execution_count": 24,
   "metadata": {
    "collapsed": false
   },
   "outputs": [
    {
     "data": {
      "text/plain": [
       "0.69343434343434351"
      ]
     },
     "execution_count": 24,
     "metadata": {},
     "output_type": "execute_result"
    }
   ],
   "source": [
    "cv_info_lin.avg_f1_score()"
   ]
  },
  {
   "cell_type": "code",
   "execution_count": 25,
   "metadata": {
    "collapsed": false
   },
   "outputs": [
    {
     "data": {
      "text/plain": [
       "0.69444444444444453"
      ]
     },
     "execution_count": 25,
     "metadata": {},
     "output_type": "execute_result"
    }
   ],
   "source": [
    "cv_info_lin.avg_sensitivity_score()"
   ]
  },
  {
   "cell_type": "code",
   "execution_count": 26,
   "metadata": {
    "collapsed": false
   },
   "outputs": [
    {
     "data": {
      "text/plain": [
       "0.75"
      ]
     },
     "execution_count": 26,
     "metadata": {},
     "output_type": "execute_result"
    }
   ],
   "source": [
    "cv_info_lin.avg_specificity_score()"
   ]
  },
  {
   "cell_type": "markdown",
   "metadata": {
    "collapsed": false
   },
   "source": [
    "### Normalize Matrix Z-score"
   ]
  },
  {
   "cell_type": "code",
   "execution_count": 26,
   "metadata": {
    "collapsed": false
   },
   "outputs": [
    {
     "name": "stdout",
     "output_type": "stream",
     "text": [
      "0 columns fin.\n",
      "50000 columns fin.\n",
      "100000 columns fin.\n"
     ]
    }
   ],
   "source": [
    "from scipy.stats.mstats import zscore\n",
    "\n",
    "X = mat.copy()\n",
    "for col in xrange(X.shape[1]):\n",
    "    if col % 50000 == 0:\n",
    "        print '{} columns fin.'.format(col)\n",
    "    X[:,col] = zscore(X[:,col]) \n",
    "    X[:,col] = X[:,col] / np.sqrt( sum( [ x**2 for x in X[:,col] ] ) )"
   ]
  },
  {
   "cell_type": "code",
   "execution_count": 27,
   "metadata": {
    "collapsed": false
   },
   "outputs": [
    {
     "data": {
      "text/plain": [
       "(68, 134263)"
      ]
     },
     "execution_count": 27,
     "metadata": {},
     "output_type": "execute_result"
    }
   ],
   "source": [
    "mat.shape"
   ]
  },
  {
   "cell_type": "markdown",
   "metadata": {},
   "source": [
    "<b><h3> Grid Search params := ( $k_{best}$,C ,$T_{mask}$, norm= (True || False) ) </h3></b>"
   ]
  },
  {
   "cell_type": "code",
   "execution_count": 28,
   "metadata": {
    "collapsed": false
   },
   "outputs": [
    {
     "name": "stdout",
     "output_type": "stream",
     "text": [
      "(68, 134263)\n"
     ]
    }
   ],
   "source": [
    "print mat.shape"
   ]
  },
  {
   "cell_type": "code",
   "execution_count": 29,
   "metadata": {
    "collapsed": true
   },
   "outputs": [],
   "source": [
    "mat_normalized = X"
   ]
  },
  {
   "cell_type": "code",
   "execution_count": 30,
   "metadata": {
    "collapsed": false
   },
   "outputs": [
    {
     "name": "stdout",
     "output_type": "stream",
     "text": [
      "####"
     ]
    },
    {
     "name": "stderr",
     "output_type": "stream",
     "text": [
      "//anaconda/lib/python2.7/site-packages/sklearn/metrics/classification.py:958: UndefinedMetricWarning: F-score is ill-defined and being set to 0.0 due to no predicted samples.\n",
      "  'precision', 'predicted', average, warn_for)\n",
      "//anaconda/lib/python2.7/site-packages/sklearn/feature_selection/univariate_selection.py:111: UserWarning: Features [84317] are constant.\n",
      "  UserWarning)\n"
     ]
    },
    {
     "name": "stdout",
     "output_type": "stream",
     "text": [
      "######################################"
     ]
    },
    {
     "data": {
      "text/plain": [
       "GridSearchCV(cv=sklearn.cross_validation.StratifiedKFold(labels=[1 1 ..., 0 0], n_folds=6, shuffle=False, random_state=None),\n",
       "       error_score='raise',\n",
       "       estimator=Pipeline(steps=[('anova', SelectKBest(k=2000, score_func=<function f_classif at 0x10c603578>)), ('svc', SVC(C=0.1, cache_size=200, class_weight=None, coef0=0.0, degree=3, gamma=0.0,\n",
       "  kernel='linear', max_iter=-1, probability=False, random_state=None,\n",
       "  shrinking=True, tol=0.001, verbose=False))]),\n",
       "       fit_params={}, iid=True, loss_func=None, n_jobs=1,\n",
       "       param_grid={'svc__C': array([  1.00000e-03,   1.00000e-02,   1.00000e-01,   1.00000e+00,\n",
       "         1.00000e+01,   1.00000e+02,   1.00000e+03])},\n",
       "       pre_dispatch='2*n_jobs', refit=True, score_func=None,\n",
       "       scoring=make_scorer(verbose_score_fn), verbose=0)"
      ]
     },
     "execution_count": 30,
     "metadata": {},
     "output_type": "execute_result"
    }
   ],
   "source": [
    "grid_lin_normalized = GridSearchCV(anova_svc_lin, param_grid={\"svc__C\": C_range_lin}, cv=cv, scoring = scorer)\n",
    "grid_lin_normalized.fit(mat_normalized, labels_arr)"
   ]
  },
  {
   "cell_type": "code",
   "execution_count": 31,
   "metadata": {
    "collapsed": false
   },
   "outputs": [
    {
     "data": {
      "text/plain": [
       "[mean: 0.25840, std: 0.11905, params: {'svc__C': 0.001},\n",
       " mean: 0.68284, std: 0.18130, params: {'svc__C': 0.01},\n",
       " mean: 0.67213, std: 0.22921, params: {'svc__C': 0.10000000000000001},\n",
       " mean: 0.75330, std: 0.17163, params: {'svc__C': 1.0},\n",
       " mean: 0.75330, std: 0.17163, params: {'svc__C': 10.0},\n",
       " mean: 0.75330, std: 0.17163, params: {'svc__C': 100.0},\n",
       " mean: 0.75330, std: 0.17163, params: {'svc__C': 1000.0}]"
      ]
     },
     "execution_count": 31,
     "metadata": {},
     "output_type": "execute_result"
    }
   ],
   "source": [
    "grid_lin_normalized.grid_scores_"
   ]
  },
  {
   "cell_type": "markdown",
   "metadata": {},
   "source": [
    "### White Matter Threshold"
   ]
  },
  {
   "cell_type": "code",
   "execution_count": 32,
   "metadata": {
    "collapsed": false
   },
   "outputs": [],
   "source": [
    "all_fs = mod_paths['pats'] + mod_paths['cons']"
   ]
  },
  {
   "cell_type": "code",
   "execution_count": 33,
   "metadata": {
    "collapsed": false
   },
   "outputs": [
    {
     "name": "stdout",
     "output_type": "stream",
     "text": [
      "--------------------------------------------------------------------\n",
      "####################################################################"
     ]
    }
   ],
   "source": [
    "import sys\n",
    "\n",
    "import nilearn as nil\n",
    "\n",
    "wm_image = nib.load('masks/white.nii')\n",
    "\n",
    "def verbose_load(f):\n",
    "    sys.stdout.write('#')\n",
    "    return nil.image.resample_img(f, \n",
    "                                  target_shape=wm_image.shape, \n",
    "                                  target_affine=wm_image.get_affine())\n",
    "\n",
    "print('-' * len(all_fs))\n",
    "    \n",
    "all_data = np.vstack([verbose_load(f).get_data().flatten() for f in all_fs])"
   ]
  },
  {
   "cell_type": "code",
   "execution_count": 34,
   "metadata": {
    "collapsed": false
   },
   "outputs": [
    {
     "data": {
      "text/plain": [
       "(68, 902629)"
      ]
     },
     "execution_count": 34,
     "metadata": {},
     "output_type": "execute_result"
    }
   ],
   "source": [
    "all_data.shape"
   ]
  },
  {
   "cell_type": "code",
   "execution_count": 35,
   "metadata": {
    "collapsed": false
   },
   "outputs": [],
   "source": [
    "reload(epi_prediction)\n",
    "white_matter_pipe = epi_prediction.SimpleMaskerPipeline(threshold=0)"
   ]
  },
  {
   "cell_type": "code",
   "execution_count": 36,
   "metadata": {
    "collapsed": true
   },
   "outputs": [],
   "source": [
    "normalizer = epi_prediction.NormalizerPipeline(normalize_flag=False)"
   ]
  },
  {
   "cell_type": "code",
   "execution_count": 37,
   "metadata": {
    "collapsed": false
   },
   "outputs": [],
   "source": [
    "wm_norm_anova_svc = Pipeline( [('masker', white_matter_pipe),\n",
    "                              ('anova', SelectKBest(k=500)), \n",
    "                              ('svc', svc)] )"
   ]
  },
  {
   "cell_type": "code",
   "execution_count": 38,
   "metadata": {
    "collapsed": false
   },
   "outputs": [
    {
     "name": "stdout",
     "output_type": "stream",
     "text": [
      "------------------------------------------------------------------------------------------------------------------------------------------------------------------------------------------------------------------------------------------------------------------------------------------------------------------------------------------------------------------------------------------------------------------------------------------------------------------------------------------------\n",
      "########################################################################################################################################################################################################################################################################################################################################################################"
     ]
    },
    {
     "data": {
      "text/plain": [
       "GridSearchCV(cv=sklearn.cross_validation.StratifiedKFold(labels=[1 1 ..., 0 0], n_folds=6, shuffle=False, random_state=None),\n",
       "       error_score='raise',\n",
       "       estimator=Pipeline(steps=[('masker', SimpleMaskerPipeline(threshold=0)), ('anova', SelectKBest(k=500, score_func=<function f_classif at 0x10c603578>)), ('svc', SVC(C=0.1, cache_size=200, class_weight=None, coef0=0.0, degree=3, gamma=0.0,\n",
       "  kernel='linear', max_iter=-1, probability=False, random_state=None,\n",
       "  shrinking=True, tol=0.001, verbose=False))]),\n",
       "       fit_params={}, iid=True, loss_func=None, n_jobs=1,\n",
       "       param_grid={'masker__threshold': [0.2, 0.5, 0.7, 0.9], 'anova__k': [50, 250, 500], 'svc__C': [0.01, 0.1, 1, 10, 100]},\n",
       "       pre_dispatch='2*n_jobs', refit=True, score_func=None,\n",
       "       scoring=make_scorer(verbose_score_fn), verbose=0)"
      ]
     },
     "execution_count": 38,
     "metadata": {},
     "output_type": "execute_result"
    }
   ],
   "source": [
    "param_grid={\"svc__C\": [.01, .1, 1, 10, 100],\n",
    "            \"masker__threshold\" :[.2, .5, .7, .9],\n",
    "            \"anova__k\": [50, 250, 500]\n",
    "           }\n",
    "\n",
    "print(\"-\" * 2 * 5  * 2 * 4 * 2 * 3)\n",
    "grid_lin = GridSearchCV(wm_norm_anova_svc, param_grid=param_grid, cv=cv, scoring = scorer)\n",
    "grid_lin.fit(all_data, labels_arr)"
   ]
  },
  {
   "cell_type": "code",
   "execution_count": 39,
   "metadata": {
    "collapsed": false
   },
   "outputs": [
    {
     "data": {
      "text/plain": [
       "[mean: 0.53903, std: 0.19375, params: {'masker__threshold': 0.2, 'anova__k': 50, 'svc__C': 0.01},\n",
       " mean: 0.64510, std: 0.15356, params: {'masker__threshold': 0.2, 'anova__k': 50, 'svc__C': 0.1},\n",
       " mean: 0.61976, std: 0.20442, params: {'masker__threshold': 0.2, 'anova__k': 50, 'svc__C': 1},\n",
       " mean: 0.72006, std: 0.11017, params: {'masker__threshold': 0.2, 'anova__k': 50, 'svc__C': 10},\n",
       " mean: 0.71471, std: 0.12134, params: {'masker__threshold': 0.2, 'anova__k': 50, 'svc__C': 100},\n",
       " mean: 0.05392, std: 0.12423, params: {'masker__threshold': 0.5, 'anova__k': 50, 'svc__C': 0.01},\n",
       " mean: 0.66204, std: 0.12022, params: {'masker__threshold': 0.5, 'anova__k': 50, 'svc__C': 0.1},\n",
       " mean: 0.72871, std: 0.11339, params: {'masker__threshold': 0.5, 'anova__k': 50, 'svc__C': 1},\n",
       " mean: 0.74040, std: 0.12838, params: {'masker__threshold': 0.5, 'anova__k': 50, 'svc__C': 10},\n",
       " mean: 0.65637, std: 0.18860, params: {'masker__threshold': 0.5, 'anova__k': 50, 'svc__C': 100},\n",
       " mean: 0.00000, std: 0.00000, params: {'masker__threshold': 0.7, 'anova__k': 50, 'svc__C': 0.01},\n",
       " mean: 0.49501, std: 0.28686, params: {'masker__threshold': 0.7, 'anova__k': 50, 'svc__C': 0.1},\n",
       " mean: 0.58453, std: 0.19010, params: {'masker__threshold': 0.7, 'anova__k': 50, 'svc__C': 1},\n",
       " mean: 0.55906, std: 0.19092, params: {'masker__threshold': 0.7, 'anova__k': 50, 'svc__C': 10},\n",
       " mean: 0.49781, std: 0.17082, params: {'masker__threshold': 0.7, 'anova__k': 50, 'svc__C': 100},\n",
       " mean: 0.12710, std: 0.19525, params: {'masker__threshold': 0.9, 'anova__k': 50, 'svc__C': 0.01},\n",
       " mean: 0.38611, std: 0.23468, params: {'masker__threshold': 0.9, 'anova__k': 50, 'svc__C': 0.1},\n",
       " mean: 0.46046, std: 0.19008, params: {'masker__threshold': 0.9, 'anova__k': 50, 'svc__C': 1},\n",
       " mean: 0.48817, std: 0.14993, params: {'masker__threshold': 0.9, 'anova__k': 50, 'svc__C': 10},\n",
       " mean: 0.35702, std: 0.21277, params: {'masker__threshold': 0.9, 'anova__k': 50, 'svc__C': 100},\n",
       " mean: 0.66863, std: 0.12111, params: {'masker__threshold': 0.2, 'anova__k': 250, 'svc__C': 0.01},\n",
       " mean: 0.65977, std: 0.12062, params: {'masker__threshold': 0.2, 'anova__k': 250, 'svc__C': 0.1},\n",
       " mean: 0.61020, std: 0.08610, params: {'masker__threshold': 0.2, 'anova__k': 250, 'svc__C': 1},\n",
       " mean: 0.61020, std: 0.08610, params: {'masker__threshold': 0.2, 'anova__k': 250, 'svc__C': 10},\n",
       " mean: 0.61020, std: 0.08610, params: {'masker__threshold': 0.2, 'anova__k': 250, 'svc__C': 100},\n",
       " mean: 0.52597, std: 0.30902, params: {'masker__threshold': 0.5, 'anova__k': 250, 'svc__C': 0.01},\n",
       " mean: 0.68969, std: 0.20634, params: {'masker__threshold': 0.5, 'anova__k': 250, 'svc__C': 0.1},\n",
       " mean: 0.67234, std: 0.20438, params: {'masker__threshold': 0.5, 'anova__k': 250, 'svc__C': 1},\n",
       " mean: 0.63399, std: 0.18444, params: {'masker__threshold': 0.5, 'anova__k': 250, 'svc__C': 10},\n",
       " mean: 0.63399, std: 0.18444, params: {'masker__threshold': 0.5, 'anova__k': 250, 'svc__C': 100},\n",
       " mean: 0.48268, std: 0.29036, params: {'masker__threshold': 0.7, 'anova__k': 250, 'svc__C': 0.01},\n",
       " mean: 0.68071, std: 0.17034, params: {'masker__threshold': 0.7, 'anova__k': 250, 'svc__C': 0.1},\n",
       " mean: 0.54373, std: 0.13238, params: {'masker__threshold': 0.7, 'anova__k': 250, 'svc__C': 1},\n",
       " mean: 0.53749, std: 0.25596, params: {'masker__threshold': 0.7, 'anova__k': 250, 'svc__C': 10},\n",
       " mean: 0.51690, std: 0.23572, params: {'masker__threshold': 0.7, 'anova__k': 250, 'svc__C': 100},\n",
       " mean: 0.46493, std: 0.19826, params: {'masker__threshold': 0.9, 'anova__k': 250, 'svc__C': 0.01},\n",
       " mean: 0.50199, std: 0.24028, params: {'masker__threshold': 0.9, 'anova__k': 250, 'svc__C': 0.1},\n",
       " mean: 0.44331, std: 0.18616, params: {'masker__threshold': 0.9, 'anova__k': 250, 'svc__C': 1},\n",
       " mean: 0.52381, std: 0.21732, params: {'masker__threshold': 0.9, 'anova__k': 250, 'svc__C': 10},\n",
       " mean: 0.47843, std: 0.24120, params: {'masker__threshold': 0.9, 'anova__k': 250, 'svc__C': 100},\n",
       " mean: 0.69020, std: 0.13056, params: {'masker__threshold': 0.2, 'anova__k': 500, 'svc__C': 0.01},\n",
       " mean: 0.69265, std: 0.14039, params: {'masker__threshold': 0.2, 'anova__k': 500, 'svc__C': 0.1},\n",
       " mean: 0.64751, std: 0.12043, params: {'masker__threshold': 0.2, 'anova__k': 500, 'svc__C': 1},\n",
       " mean: 0.64751, std: 0.12043, params: {'masker__threshold': 0.2, 'anova__k': 500, 'svc__C': 10},\n",
       " mean: 0.64751, std: 0.12043, params: {'masker__threshold': 0.2, 'anova__k': 500, 'svc__C': 100},\n",
       " mean: 0.63784, std: 0.20243, params: {'masker__threshold': 0.5, 'anova__k': 500, 'svc__C': 0.01},\n",
       " mean: 0.69444, std: 0.18206, params: {'masker__threshold': 0.5, 'anova__k': 500, 'svc__C': 0.1},\n",
       " mean: 0.64800, std: 0.11020, params: {'masker__threshold': 0.5, 'anova__k': 500, 'svc__C': 1},\n",
       " mean: 0.65143, std: 0.13056, params: {'masker__threshold': 0.5, 'anova__k': 500, 'svc__C': 10},\n",
       " mean: 0.65143, std: 0.13056, params: {'masker__threshold': 0.5, 'anova__k': 500, 'svc__C': 100},\n",
       " mean: 0.59239, std: 0.23792, params: {'masker__threshold': 0.7, 'anova__k': 500, 'svc__C': 0.01},\n",
       " mean: 0.64289, std: 0.21962, params: {'masker__threshold': 0.7, 'anova__k': 500, 'svc__C': 0.1},\n",
       " mean: 0.58711, std: 0.19177, params: {'masker__threshold': 0.7, 'anova__k': 500, 'svc__C': 1},\n",
       " mean: 0.59631, std: 0.16594, params: {'masker__threshold': 0.7, 'anova__k': 500, 'svc__C': 10},\n",
       " mean: 0.59631, std: 0.16594, params: {'masker__threshold': 0.7, 'anova__k': 500, 'svc__C': 100},\n",
       " mean: 0.49084, std: 0.22194, params: {'masker__threshold': 0.9, 'anova__k': 500, 'svc__C': 0.01},\n",
       " mean: 0.52895, std: 0.22862, params: {'masker__threshold': 0.9, 'anova__k': 500, 'svc__C': 0.1},\n",
       " mean: 0.52227, std: 0.15105, params: {'masker__threshold': 0.9, 'anova__k': 500, 'svc__C': 1},\n",
       " mean: 0.38735, std: 0.20989, params: {'masker__threshold': 0.9, 'anova__k': 500, 'svc__C': 10},\n",
       " mean: 0.40312, std: 0.20390, params: {'masker__threshold': 0.9, 'anova__k': 500, 'svc__C': 100}]"
      ]
     },
     "execution_count": 39,
     "metadata": {},
     "output_type": "execute_result"
    }
   ],
   "source": [
    "grid_lin.grid_scores_"
   ]
  },
  {
   "cell_type": "code",
   "execution_count": 40,
   "metadata": {
    "collapsed": false
   },
   "outputs": [
    {
     "data": {
      "text/plain": [
       "0.74040346907993948"
      ]
     },
     "execution_count": 40,
     "metadata": {},
     "output_type": "execute_result"
    }
   ],
   "source": [
    "grid_lin.best_score_"
   ]
  },
  {
   "cell_type": "code",
   "execution_count": 41,
   "metadata": {
    "collapsed": false
   },
   "outputs": [
    {
     "data": {
      "text/plain": [
       "{'anova__k': 50, 'masker__threshold': 0.5, 'svc__C': 10}"
      ]
     },
     "execution_count": 41,
     "metadata": {},
     "output_type": "execute_result"
    }
   ],
   "source": [
    "grid_lin.best_params_"
   ]
  }
 ],
 "metadata": {
  "kernelspec": {
   "display_name": "Python 2",
   "language": "python",
   "name": "python2"
  },
  "language_info": {
   "codemirror_mode": {
    "name": "ipython",
    "version": 2
   },
   "file_extension": ".py",
   "mimetype": "text/x-python",
   "name": "python",
   "nbconvert_exporter": "python",
   "pygments_lexer": "ipython2",
   "version": "2.7.10"
  }
 },
 "nbformat": 4,
 "nbformat_minor": 0
}

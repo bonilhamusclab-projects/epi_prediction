{
 "cells": [
  {
   "cell_type": "code",
   "execution_count": 1,
   "metadata": {
    "collapsed": false
   },
   "outputs": [],
   "source": [
    "%matplotlib inline"
   ]
  },
  {
   "cell_type": "markdown",
   "metadata": {},
   "source": [
    "##Import Data"
   ]
  },
  {
   "cell_type": "code",
   "execution_count": 2,
   "metadata": {
    "collapsed": false
   },
   "outputs": [],
   "source": [
    "import epi_prediction\n",
    "src_dir = '/Users/johnbonihalab/data/chuyu/modalities'\n",
    "control_filter = lambda file_name: 'CON' in file_name\n",
    "patient_filter = lambda file_name: 'PAT' in file_name"
   ]
  },
  {
   "cell_type": "code",
   "execution_count": 3,
   "metadata": {
    "collapsed": false
   },
   "outputs": [],
   "source": [
    "epi_paths = epi_prediction.get_epi_paths(src_dir, patient_filter, control_filter)\n"
   ]
  },
  {
   "cell_type": "code",
   "execution_count": 4,
   "metadata": {
    "collapsed": false
   },
   "outputs": [],
   "source": [
    "mod_paths = epi_paths['fa']"
   ]
  },
  {
   "cell_type": "code",
   "execution_count": 5,
   "metadata": {
    "collapsed": false
   },
   "outputs": [
    {
     "data": {
      "text/plain": [
       "cons    [/Users/johnbonihalab/data/chuyu/modalities/fa...\n",
       "pats    [/Users/johnbonihalab/data/chuyu/modalities/fa...\n",
       "Name: fa, dtype: object"
      ]
     },
     "execution_count": 5,
     "metadata": {},
     "output_type": "execute_result"
    }
   ],
   "source": [
    "mod_paths"
   ]
  },
  {
   "cell_type": "code",
   "execution_count": 6,
   "metadata": {
    "collapsed": false
   },
   "outputs": [],
   "source": [
    "labels = len(mod_paths['pats']) * [1] + len(mod_paths['cons']) * [0]"
   ]
  },
  {
   "cell_type": "code",
   "execution_count": 7,
   "metadata": {
    "collapsed": false
   },
   "outputs": [
    {
     "data": {
      "text/plain": [
       "68"
      ]
     },
     "execution_count": 7,
     "metadata": {},
     "output_type": "execute_result"
    }
   ],
   "source": [
    "len(labels)"
   ]
  },
  {
   "cell_type": "markdown",
   "metadata": {},
   "source": [
    "##Load White Matter Mask"
   ]
  },
  {
   "cell_type": "code",
   "execution_count": 8,
   "metadata": {
    "collapsed": false
   },
   "outputs": [],
   "source": [
    "white_matter = epi_prediction.SimpleMasker('masks/white.nii', threshold=.2)"
   ]
  },
  {
   "cell_type": "code",
   "execution_count": 9,
   "metadata": {
    "collapsed": false
   },
   "outputs": [
    {
     "name": "stdout",
     "output_type": "stream",
     "text": [
      "--------------------------------------------------------------------\n",
      "####################################################################"
     ]
    }
   ],
   "source": [
    "mat = white_matter.transform_many(mod_paths['pats'] + mod_paths['cons'], verbose=True)"
   ]
  },
  {
   "cell_type": "markdown",
   "metadata": {},
   "source": [
    "##Retrieve the Voxels"
   ]
  },
  {
   "cell_type": "markdown",
   "metadata": {},
   "source": [
    "__Retrieving Important Voxels Requires Linear Classifier__"
   ]
  },
  {
   "cell_type": "code",
   "execution_count": 10,
   "metadata": {
    "collapsed": true
   },
   "outputs": [],
   "source": [
    "from nilearn.input_data import NiftiMasker\n",
    "import numpy as np\n",
    "from sklearn.cross_validation import StratifiedKFold, cross_val_score\n",
    "from sklearn.feature_selection import SelectKBest, f_classif\n",
    "from sklearn.grid_search import GridSearchCV\n",
    "from sklearn.pipeline import Pipeline\n",
    "from sklearn.svm import SVC"
   ]
  },
  {
   "cell_type": "code",
   "execution_count": 11,
   "metadata": {
    "collapsed": false
   },
   "outputs": [],
   "source": [
    "n_folds = 6\n",
    "svc = SVC()\n",
    "anova_svc_lin = Pipeline( [('anova', SelectKBest(k=500)), ('svc', svc)] )\n",
    "anova_svc_lin.set_params(svc__kernel='linear')\n",
    "cv = StratifiedKFold(labels, n_folds=6)\n",
    "labels_arr = np.array(labels)"
   ]
  },
  {
   "cell_type": "code",
   "execution_count": 12,
   "metadata": {
    "collapsed": false,
    "scrolled": true
   },
   "outputs": [
    {
     "name": "stdout",
     "output_type": "stream",
     "text": [
      "------------------------------------------\n",
      "##########################################"
     ]
    },
    {
     "name": "stderr",
     "output_type": "stream",
     "text": [
      "//anaconda/lib/python2.7/site-packages/sklearn/metrics/classification.py:958: UndefinedMetricWarning: F-score is ill-defined and being set to 0.0 due to no predicted samples.\n",
      "  'precision', 'predicted', average, warn_for)\n"
     ]
    },
    {
     "data": {
      "text/plain": [
       "GridSearchCV(cv=sklearn.cross_validation.StratifiedKFold(labels=[1 1 ..., 0 0], n_folds=6, shuffle=False, random_state=None),\n",
       "       error_score='raise',\n",
       "       estimator=Pipeline(steps=[('anova', SelectKBest(k=500, score_func=<function f_classif at 0x109dddc08>)), ('svc', SVC(C=1.0, cache_size=200, class_weight=None, coef0=0.0, degree=3, gamma=0.0,\n",
       "  kernel='linear', max_iter=-1, probability=False, random_state=None,\n",
       "  shrinking=True, tol=0.001, verbose=False))]),\n",
       "       fit_params={}, iid=True, loss_func=None, n_jobs=1,\n",
       "       param_grid={'anova__k': [500], 'svc__C': array([  1.00000e-03,   1.00000e-02,   1.00000e-01,   1.00000e+00,\n",
       "         1.00000e+01,   1.00000e+02,   1.00000e+03])},\n",
       "       pre_dispatch='2*n_jobs', refit=True, score_func=None,\n",
       "       scoring=make_scorer(verbose_score_fn), verbose=0)"
      ]
     },
     "execution_count": 12,
     "metadata": {},
     "output_type": "execute_result"
    }
   ],
   "source": [
    "C_range_lin = np.logspace(-3, 3, 7)\n",
    "#k_range = np.linspace(500,2000,3).astype(int)\n",
    "k_range=[500]\n",
    "\n",
    "total_runs = len(C_range_lin) * n_folds\n",
    "\n",
    "scorer = epi_prediction.verbose_scorer(total_runs)\n",
    "grid_lin = GridSearchCV(anova_svc_lin, param_grid={\"svc__C\": C_range_lin,\"anova__k\" :k_range}, cv=cv, scoring = scorer)\n",
    "\n",
    "grid_lin.fit(mat, labels_arr)"
   ]
  },
  {
   "cell_type": "code",
   "execution_count": 13,
   "metadata": {
    "collapsed": false
   },
   "outputs": [
    {
     "data": {
      "text/plain": [
       "[mean: 0.00000, std: 0.00000, params: {'anova__k': 500, 'svc__C': 0.001},\n",
       " mean: 0.05392, std: 0.12423, params: {'anova__k': 500, 'svc__C': 0.01},\n",
       " mean: 0.68660, std: 0.21526, params: {'anova__k': 500, 'svc__C': 0.10000000000000001},\n",
       " mean: 0.67251, std: 0.14662, params: {'anova__k': 500, 'svc__C': 1.0},\n",
       " mean: 0.62774, std: 0.17312, params: {'anova__k': 500, 'svc__C': 10.0},\n",
       " mean: 0.62774, std: 0.17312, params: {'anova__k': 500, 'svc__C': 100.0},\n",
       " mean: 0.62774, std: 0.17312, params: {'anova__k': 500, 'svc__C': 1000.0}]"
      ]
     },
     "execution_count": 13,
     "metadata": {},
     "output_type": "execute_result"
    }
   ],
   "source": [
    "grid_lin.grid_scores_"
   ]
  },
  {
   "cell_type": "code",
   "execution_count": 14,
   "metadata": {
    "collapsed": false
   },
   "outputs": [
    {
     "data": {
      "text/plain": [
       "Pipeline(steps=[('anova', SelectKBest(k=500, score_func=<function f_classif at 0x109dddc08>)), ('svc', SVC(C=0.1, cache_size=200, class_weight=None, coef0=0.0, degree=3, gamma=0.0,\n",
       "  kernel='linear', max_iter=-1, probability=False, random_state=None,\n",
       "  shrinking=True, tol=0.001, verbose=False))])"
      ]
     },
     "execution_count": 14,
     "metadata": {},
     "output_type": "execute_result"
    }
   ],
   "source": [
    "anova_svc_lin.set_params(svc__C=.1, anova__k=500)"
   ]
  },
  {
   "cell_type": "code",
   "execution_count": 15,
   "metadata": {
    "collapsed": false
   },
   "outputs": [],
   "source": [
    "svc = anova_svc_lin.named_steps['svc']\n",
    "anova = anova_svc_lin.named_steps['anova']"
   ]
  },
  {
   "cell_type": "code",
   "execution_count": 16,
   "metadata": {
    "collapsed": false
   },
   "outputs": [],
   "source": [
    "def fit(train):\n",
    "    anova_svc_lin.fit(mat[train], labels_arr[train])\n",
    "\n",
    "def coeffs_fn(filter_fn):\n",
    "    def fn():\n",
    "        svc_coef = svc.coef_.copy()\n",
    "        svc_coef[filter_fn(svc.coef_) == 0] = 0\n",
    "        return white_matter.inv_transform(anova.inverse_transform(svc_coef))\n",
    "    return fn\n",
    "\n",
    "coeffs = epi_prediction.calc_coeffs(cv, fit, coeffs_fn(lambda c: c))"
   ]
  },
  {
   "cell_type": "code",
   "execution_count": 17,
   "metadata": {
    "collapsed": false
   },
   "outputs": [
    {
     "name": "stderr",
     "output_type": "stream",
     "text": [
      "//anaconda/lib/python2.7/site-packages/matplotlib/collections.py:590: FutureWarning: elementwise comparison failed; returning scalar instead, but in the future will perform elementwise comparison\n",
      "  if self._edgecolors == str('face'):\n"
     ]
    },
    {
     "data": {
      "image/png": "[encoded data removed]",
      "text/plain": [
       "<matplotlib.figure.Figure at 0x10616b8d0>"
      ]
     },
     "metadata": {},
     "output_type": "display_data"
    }
   ],
   "source": [
    "import IPython\n",
    "from IPython.html.widgets import interact, interactive\n",
    "from IPython.html.widgets.widget_float import FloatSlider\n",
    "\n",
    "title='fa'\n",
    "def plot_bw(base_b):\n",
    "    epi_prediction.plot_bw_coeffs(coeffs, white_matter._mask_image.get_affine(), title,\n",
    "                                 base_brightness=base_b)\n",
    "\n",
    "base_b_slider = FloatSlider(min=0, max=1, step=0.1, value=.7)\n",
    "w=interactive(plot_bw,base_b=base_b_slider)\n",
    "IPython.display.display(w)"
   ]
  },
  {
   "cell_type": "code",
   "execution_count": 18,
   "metadata": {
    "collapsed": false
   },
   "outputs": [
    {
     "data": {
      "text/plain": [
       "(91, 109, 91)"
      ]
     },
     "execution_count": 18,
     "metadata": {},
     "output_type": "execute_result"
    }
   ],
   "source": [
    "coeffs.shape"
   ]
  },
  {
   "cell_type": "code",
   "execution_count": 37,
   "metadata": {
    "collapsed": false
   },
   "outputs": [
    {
     "data": {
      "text/plain": [
       "(-0.005366260171727485, 0.0014690596741217348)"
      ]
     },
     "execution_count": 37,
     "metadata": {},
     "output_type": "execute_result"
    }
   ],
   "source": [
    "np.min(coeffs), np.max(coeffs)"
   ]
  },
  {
   "cell_type": "code",
   "execution_count": 68,
   "metadata": {
    "collapsed": false
   },
   "outputs": [
    {
     "data": {
      "image/png": "[encoded data removed]",
      "text/plain": [
       "<matplotlib.figure.Figure at 0x117ea9450>"
      ]
     },
     "metadata": {},
     "output_type": "display_data"
    }
   ],
   "source": [
    "reload(epi_prediction)\n",
    "\n",
    "def save_and_plot(save, **kwargs):\n",
    "    affine = white_matter._mask_image.get_affine()\n",
    "    kwargs['title'] = title\n",
    "    epi_prediction.plot_coeffs(coeffs, affine, **kwargs)\n",
    "\n",
    "    if save:\n",
    "        output_file = title+'_color'\n",
    "        print \"about to save \" + output_file\n",
    "        kwargs['output_file'] = output_file\n",
    "        epi_prediction.plot_coeffs(coeffs, affine, **kwargs)\n",
    "        print \"saved \" + output_file\n",
    "\n",
    "nd_slider = FloatSlider(min=0, max=1, step=0.1, value=.7)\n",
    "pd_slider = FloatSlider(min=0, max=1, step=0.1, value=.7)\n",
    "w=interactive(save_and_plot, save=False, neg_disp=nd_slider, pos_disp=pd_slider, \n",
    "              plot_abs=False, colorbar=True, black_bg=True, symmetric_cbar=False)\n",
    "IPython.display.display(w)"
   ]
  },
  {
   "cell_type": "markdown",
   "metadata": {},
   "source": [
    "##Generate Linear Confusion Matrix"
   ]
  },
  {
   "cell_type": "code",
   "execution_count": 21,
   "metadata": {
    "collapsed": false
   },
   "outputs": [
    {
     "name": "stdout",
     "output_type": "stream",
     "text": [
      "####\n",
      "####\n",
      "####\n",
      "####\n",
      "####\n",
      "####\n"
     ]
    }
   ],
   "source": [
    "cv_info_lin, cv_info_train_lin = epi_prediction.verbose_cv(mat, labels_arr, anova_svc_lin, n_folds=6, verbose=False)"
   ]
  },
  {
   "cell_type": "code",
   "execution_count": 22,
   "metadata": {
    "collapsed": false
   },
   "outputs": [
    {
     "data": {
      "text/plain": [
       "array([[31,  5],\n",
       "       [11, 21]])"
      ]
     },
     "execution_count": 22,
     "metadata": {},
     "output_type": "execute_result"
    }
   ],
   "source": [
    "cv_info_lin.confusion_matrix()"
   ]
  },
  {
   "cell_type": "code",
   "execution_count": 23,
   "metadata": {
    "collapsed": false
   },
   "outputs": [
    {
     "data": {
      "text/plain": [
       "array([[ 0.86111111,  0.13888889],\n",
       "       [ 0.34375   ,  0.65625   ]])"
      ]
     },
     "execution_count": 23,
     "metadata": {},
     "output_type": "execute_result"
    }
   ],
   "source": [
    "cv_info_lin.normalized_confusion_matrix()"
   ]
  },
  {
   "cell_type": "code",
   "execution_count": 24,
   "metadata": {
    "collapsed": false
   },
   "outputs": [
    {
     "data": {
      "image/png": "[encoded data removed]",
      "text/plain": [
       "<matplotlib.figure.Figure at 0x113a42a50>"
      ]
     },
     "metadata": {},
     "output_type": "display_data"
    }
   ],
   "source": [
    "epi_prediction.plot_confusion_matrix(\n",
    "    cv_info_lin.normalized_confusion_matrix(), \"FA Confusion Matrix\")"
   ]
  },
  {
   "cell_type": "code",
   "execution_count": 25,
   "metadata": {
    "collapsed": false
   },
   "outputs": [
    {
     "data": {
      "text/plain": [
       "0.68909146409146393"
      ]
     },
     "execution_count": 25,
     "metadata": {},
     "output_type": "execute_result"
    }
   ],
   "source": [
    "cv_info_lin.avg_f1_score()"
   ]
  },
  {
   "cell_type": "code",
   "execution_count": 26,
   "metadata": {
    "collapsed": false
   },
   "outputs": [
    {
     "data": {
      "text/plain": [
       "0.6611111111111112"
      ]
     },
     "execution_count": 26,
     "metadata": {},
     "output_type": "execute_result"
    }
   ],
   "source": [
    "cv_info_lin.avg_sensitivity_score()"
   ]
  },
  {
   "cell_type": "code",
   "execution_count": 27,
   "metadata": {
    "collapsed": false
   },
   "outputs": [
    {
     "data": {
      "text/plain": [
       "0.86111111111111116"
      ]
     },
     "execution_count": 27,
     "metadata": {},
     "output_type": "execute_result"
    }
   ],
   "source": [
    "cv_info_lin.avg_specificity_score()"
   ]
  },
  {
   "cell_type": "markdown",
   "metadata": {},
   "source": [
    "## IGNORE BELOW CONTRIBUTIONS FROM C OF C"
   ]
  },
  {
   "cell_type": "markdown",
   "metadata": {
    "collapsed": false
   },
   "source": [
    "### Normalize Matrix Z-score"
   ]
  },
  {
   "cell_type": "code",
   "execution_count": 27,
   "metadata": {
    "collapsed": false
   },
   "outputs": [
    {
     "name": "stdout",
     "output_type": "stream",
     "text": [
      "0 columns fin.\n",
      "50000 columns fin.\n",
      "100000 columns fin.\n"
     ]
    }
   ],
   "source": [
    "from scipy.stats.mstats import zscore\n",
    "\n",
    "X = mat.copy()\n",
    "for col in xrange(X.shape[1]):\n",
    "    if col % 50000 == 0:\n",
    "        print '{} columns fin.'.format(col)\n",
    "    X[:,col] = zscore(X[:,col]) \n",
    "    X[:,col] = X[:,col] / np.sqrt( sum( [ x**2 for x in X[:,col] ] ) )"
   ]
  },
  {
   "cell_type": "code",
   "execution_count": 26,
   "metadata": {
    "collapsed": false
   },
   "outputs": [
    {
     "data": {
      "text/plain": [
       "(68, 134263)"
      ]
     },
     "execution_count": 26,
     "metadata": {},
     "output_type": "execute_result"
    }
   ],
   "source": [
    "mat.shape"
   ]
  },
  {
   "cell_type": "markdown",
   "metadata": {},
   "source": [
    "<b><h3> Grid Search params := ( $k_{best}$,C ,$T_{mask}$, norm= (True || False) ) </h3></b>"
   ]
  },
  {
   "cell_type": "code",
   "execution_count": 27,
   "metadata": {
    "collapsed": false
   },
   "outputs": [
    {
     "name": "stdout",
     "output_type": "stream",
     "text": [
      "(68, 134263)\n"
     ]
    }
   ],
   "source": [
    "print mat.shape"
   ]
  },
  {
   "cell_type": "code",
   "execution_count": 28,
   "metadata": {
    "collapsed": true
   },
   "outputs": [],
   "source": [
    "mat_normalized = X"
   ]
  },
  {
   "cell_type": "code",
   "execution_count": 29,
   "metadata": {
    "collapsed": false
   },
   "outputs": [
    {
     "name": "stdout",
     "output_type": "stream",
     "text": [
      "##########################################"
     ]
    },
    {
     "data": {
      "text/plain": [
       "GridSearchCV(cv=sklearn.cross_validation.StratifiedKFold(labels=[1 1 ..., 0 0], n_folds=6, shuffle=False, random_state=None),\n",
       "       error_score='raise',\n",
       "       estimator=Pipeline(steps=[('anova', SelectKBest(k=500, score_func=<function f_classif at 0x10b70f578>)), ('svc', SVC(C=0.1, cache_size=200, class_weight=None, coef0=0.0, degree=3, gamma=0.0,\n",
       "  kernel='linear', max_iter=-1, probability=False, random_state=None,\n",
       "  shrinking=True, tol=0.001, verbose=False))]),\n",
       "       fit_params={}, iid=True, loss_func=None, n_jobs=1,\n",
       "       param_grid={'svc__C': array([  1.00000e-03,   1.00000e-02,   1.00000e-01,   1.00000e+00,\n",
       "         1.00000e+01,   1.00000e+02,   1.00000e+03])},\n",
       "       pre_dispatch='2*n_jobs', refit=True, score_func=None,\n",
       "       scoring=make_scorer(verbose_score_fn), verbose=0)"
      ]
     },
     "execution_count": 29,
     "metadata": {},
     "output_type": "execute_result"
    }
   ],
   "source": [
    "grid_lin_normalized = GridSearchCV(anova_svc_lin, param_grid={\"svc__C\": C_range_lin}, cv=cv, scoring = scorer)\n",
    "grid_lin_normalized.fit(mat_normalized, labels_arr)"
   ]
  },
  {
   "cell_type": "code",
   "execution_count": 30,
   "metadata": {
    "collapsed": false
   },
   "outputs": [
    {
     "data": {
      "text/plain": [
       "[mean: 0.00000, std: 0.00000, params: {'svc__C': 0.001},\n",
       " mean: 0.64726, std: 0.25115, params: {'svc__C': 0.01},\n",
       " mean: 0.65984, std: 0.21993, params: {'svc__C': 0.10000000000000001},\n",
       " mean: 0.54656, std: 0.21746, params: {'svc__C': 1.0},\n",
       " mean: 0.54656, std: 0.21746, params: {'svc__C': 10.0},\n",
       " mean: 0.54656, std: 0.21746, params: {'svc__C': 100.0},\n",
       " mean: 0.54656, std: 0.21746, params: {'svc__C': 1000.0}]"
      ]
     },
     "execution_count": 30,
     "metadata": {},
     "output_type": "execute_result"
    }
   ],
   "source": [
    "grid_lin_normalized.grid_scores_"
   ]
  },
  {
   "cell_type": "markdown",
   "metadata": {},
   "source": [
    "### White Matter Threshold"
   ]
  },
  {
   "cell_type": "code",
   "execution_count": 31,
   "metadata": {
    "collapsed": false
   },
   "outputs": [],
   "source": [
    "all_fs = mod_paths['pats'] + mod_paths['cons']"
   ]
  },
  {
   "cell_type": "code",
   "execution_count": 32,
   "metadata": {
    "collapsed": false
   },
   "outputs": [
    {
     "name": "stdout",
     "output_type": "stream",
     "text": [
      "--------------------------------------------------------------------\n",
      "####################################################################"
     ]
    }
   ],
   "source": [
    "import sys\n",
    "\n",
    "import nilearn as nil\n",
    "\n",
    "wm_image = nib.load('masks/white.nii')\n",
    "\n",
    "def verbose_load(f):\n",
    "    sys.stdout.write('#')\n",
    "    return nil.image.resample_img(f, \n",
    "                                  target_shape=wm_image.shape, \n",
    "                                  target_affine=wm_image.get_affine())\n",
    "\n",
    "print('-' * len(all_fs))\n",
    "    \n",
    "all_data = np.vstack([verbose_load(f).get_data().flatten() for f in all_fs])"
   ]
  },
  {
   "cell_type": "code",
   "execution_count": 33,
   "metadata": {
    "collapsed": false
   },
   "outputs": [
    {
     "data": {
      "text/plain": [
       "(68, 902629)"
      ]
     },
     "execution_count": 33,
     "metadata": {},
     "output_type": "execute_result"
    }
   ],
   "source": [
    "all_data.shape"
   ]
  },
  {
   "cell_type": "code",
   "execution_count": 34,
   "metadata": {
    "collapsed": false
   },
   "outputs": [],
   "source": [
    "reload(epi_prediction)\n",
    "white_matter_pipe = epi_prediction.SimpleMaskerPipeline(threshold=0)"
   ]
  },
  {
   "cell_type": "code",
   "execution_count": 35,
   "metadata": {
    "collapsed": true
   },
   "outputs": [],
   "source": [
    "normalizer = epi_prediction.NormalizerPipeline(normalize_flag=False)"
   ]
  },
  {
   "cell_type": "code",
   "execution_count": 36,
   "metadata": {
    "collapsed": false
   },
   "outputs": [],
   "source": [
    "wm_norm_anova_svc = Pipeline( [('masker', white_matter_pipe),\n",
    "                              ('anova', SelectKBest(k=500)), \n",
    "                              ('svc', svc)] )"
   ]
  },
  {
   "cell_type": "code",
   "execution_count": 37,
   "metadata": {
    "collapsed": false
   },
   "outputs": [
    {
     "name": "stdout",
     "output_type": "stream",
     "text": [
      "------------------------------------------------------------------------------------------------------------------------------------------------------------------------------------------------------------------------------------------------------------------------------------------------------------------------------------------------------------------------------------------------------------------------------------------------------------------------------------------------\n",
      "########################################################################################################################################################################################################################################################################################################################################################################"
     ]
    },
    {
     "data": {
      "text/plain": [
       "GridSearchCV(cv=sklearn.cross_validation.StratifiedKFold(labels=[1 1 ..., 0 0], n_folds=6, shuffle=False, random_state=None),\n",
       "       error_score='raise',\n",
       "       estimator=Pipeline(steps=[('masker', SimpleMaskerPipeline(threshold=0)), ('anova', SelectKBest(k=500, score_func=<function f_classif at 0x10b70f578>)), ('svc', SVC(C=0.1, cache_size=200, class_weight=None, coef0=0.0, degree=3, gamma=0.0,\n",
       "  kernel='linear', max_iter=-1, probability=False, random_state=None,\n",
       "  shrinking=True, tol=0.001, verbose=False))]),\n",
       "       fit_params={}, iid=True, loss_func=None, n_jobs=1,\n",
       "       param_grid={'masker__threshold': [0.2, 0.5, 0.7, 0.9], 'anova__k': [50, 250, 500], 'svc__C': [0.01, 0.1, 1, 10, 100]},\n",
       "       pre_dispatch='2*n_jobs', refit=True, score_func=None,\n",
       "       scoring=make_scorer(verbose_score_fn), verbose=0)"
      ]
     },
     "execution_count": 37,
     "metadata": {},
     "output_type": "execute_result"
    }
   ],
   "source": [
    "param_grid={\"svc__C\": [.01, .1, 1, 10, 100],\n",
    "            \"masker__threshold\" :[.2, .5, .7, .9],\n",
    "            \"anova__k\": [50, 250, 500]\n",
    "           }\n",
    "\n",
    "print(\"-\" * 2 * 5  * 2 * 4 * 2 * 3)\n",
    "grid_lin = GridSearchCV(wm_norm_anova_svc, param_grid=param_grid, cv=cv, scoring = scorer)\n",
    "grid_lin.fit(all_data, labels_arr)"
   ]
  },
  {
   "cell_type": "code",
   "execution_count": 38,
   "metadata": {
    "collapsed": false
   },
   "outputs": [
    {
     "data": {
      "text/plain": [
       "[mean: 0.00000, std: 0.00000, params: {'masker__threshold': 0.2, 'anova__k': 50, 'svc__C': 0.01},\n",
       " mean: 0.15056, std: 0.15163, params: {'masker__threshold': 0.2, 'anova__k': 50, 'svc__C': 0.1},\n",
       " mean: 0.62517, std: 0.11425, params: {'masker__threshold': 0.2, 'anova__k': 50, 'svc__C': 1},\n",
       " mean: 0.61092, std: 0.18443, params: {'masker__threshold': 0.2, 'anova__k': 50, 'svc__C': 10},\n",
       " mean: 0.55278, std: 0.19274, params: {'masker__threshold': 0.2, 'anova__k': 50, 'svc__C': 100},\n",
       " mean: 0.00000, std: 0.00000, params: {'masker__threshold': 0.5, 'anova__k': 50, 'svc__C': 0.01},\n",
       " mean: 0.22111, std: 0.24083, params: {'masker__threshold': 0.5, 'anova__k': 50, 'svc__C': 0.1},\n",
       " mean: 0.71670, std: 0.17092, params: {'masker__threshold': 0.5, 'anova__k': 50, 'svc__C': 1},\n",
       " mean: 0.66646, std: 0.14279, params: {'masker__threshold': 0.5, 'anova__k': 50, 'svc__C': 10},\n",
       " mean: 0.52304, std: 0.19297, params: {'masker__threshold': 0.5, 'anova__k': 50, 'svc__C': 100},\n",
       " mean: 0.00000, std: 0.00000, params: {'masker__threshold': 0.7, 'anova__k': 50, 'svc__C': 0.01},\n",
       " mean: 0.31022, std: 0.25459, params: {'masker__threshold': 0.7, 'anova__k': 50, 'svc__C': 0.1},\n",
       " mean: 0.70217, std: 0.17008, params: {'masker__threshold': 0.7, 'anova__k': 50, 'svc__C': 1},\n",
       " mean: 0.68942, std: 0.17689, params: {'masker__threshold': 0.7, 'anova__k': 50, 'svc__C': 10},\n",
       " mean: 0.49589, std: 0.24690, params: {'masker__threshold': 0.7, 'anova__k': 50, 'svc__C': 100},\n",
       " mean: 0.00000, std: 0.00000, params: {'masker__threshold': 0.9, 'anova__k': 50, 'svc__C': 0.01},\n",
       " mean: 0.25840, std: 0.22629, params: {'masker__threshold': 0.9, 'anova__k': 50, 'svc__C': 0.1},\n",
       " mean: 0.61246, std: 0.17672, params: {'masker__threshold': 0.9, 'anova__k': 50, 'svc__C': 1},\n",
       " mean: 0.59188, std: 0.16930, params: {'masker__threshold': 0.9, 'anova__k': 50, 'svc__C': 10},\n",
       " mean: 0.60214, std: 0.14966, params: {'masker__threshold': 0.9, 'anova__k': 50, 'svc__C': 100},\n",
       " mean: 0.00000, std: 0.00000, params: {'masker__threshold': 0.2, 'anova__k': 250, 'svc__C': 0.01},\n",
       " mean: 0.65771, std: 0.21711, params: {'masker__threshold': 0.2, 'anova__k': 250, 'svc__C': 0.1},\n",
       " mean: 0.59754, std: 0.19194, params: {'masker__threshold': 0.2, 'anova__k': 250, 'svc__C': 1},\n",
       " mean: 0.60066, std: 0.16117, params: {'masker__threshold': 0.2, 'anova__k': 250, 'svc__C': 10},\n",
       " mean: 0.60066, std: 0.16117, params: {'masker__threshold': 0.2, 'anova__k': 250, 'svc__C': 100},\n",
       " mean: 0.00000, std: 0.00000, params: {'masker__threshold': 0.5, 'anova__k': 250, 'svc__C': 0.01},\n",
       " mean: 0.67889, std: 0.22617, params: {'masker__threshold': 0.5, 'anova__k': 250, 'svc__C': 0.1},\n",
       " mean: 0.66951, std: 0.22869, params: {'masker__threshold': 0.5, 'anova__k': 250, 'svc__C': 1},\n",
       " mean: 0.58852, std: 0.23412, params: {'masker__threshold': 0.5, 'anova__k': 250, 'svc__C': 10},\n",
       " mean: 0.58852, std: 0.23412, params: {'masker__threshold': 0.5, 'anova__k': 250, 'svc__C': 100},\n",
       " mean: 0.00000, std: 0.00000, params: {'masker__threshold': 0.7, 'anova__k': 250, 'svc__C': 0.01},\n",
       " mean: 0.66536, std: 0.25257, params: {'masker__threshold': 0.7, 'anova__k': 250, 'svc__C': 0.1},\n",
       " mean: 0.68030, std: 0.22653, params: {'masker__threshold': 0.7, 'anova__k': 250, 'svc__C': 1},\n",
       " mean: 0.51433, std: 0.18889, params: {'masker__threshold': 0.7, 'anova__k': 250, 'svc__C': 10},\n",
       " mean: 0.50425, std: 0.17187, params: {'masker__threshold': 0.7, 'anova__k': 250, 'svc__C': 100},\n",
       " mean: 0.00000, std: 0.00000, params: {'masker__threshold': 0.9, 'anova__k': 250, 'svc__C': 0.01},\n",
       " mean: 0.61773, std: 0.20461, params: {'masker__threshold': 0.9, 'anova__k': 250, 'svc__C': 0.1},\n",
       " mean: 0.57554, std: 0.17794, params: {'masker__threshold': 0.9, 'anova__k': 250, 'svc__C': 1},\n",
       " mean: 0.46282, std: 0.14749, params: {'masker__threshold': 0.9, 'anova__k': 250, 'svc__C': 10},\n",
       " mean: 0.42804, std: 0.15220, params: {'masker__threshold': 0.9, 'anova__k': 250, 'svc__C': 100},\n",
       " mean: 0.05392, std: 0.12423, params: {'masker__threshold': 0.2, 'anova__k': 500, 'svc__C': 0.01},\n",
       " mean: 0.68660, std: 0.21526, params: {'masker__threshold': 0.2, 'anova__k': 500, 'svc__C': 0.1},\n",
       " mean: 0.67251, std: 0.14662, params: {'masker__threshold': 0.2, 'anova__k': 500, 'svc__C': 1},\n",
       " mean: 0.62774, std: 0.17312, params: {'masker__threshold': 0.2, 'anova__k': 500, 'svc__C': 10},\n",
       " mean: 0.62774, std: 0.17312, params: {'masker__threshold': 0.2, 'anova__k': 500, 'svc__C': 100},\n",
       " mean: 0.04622, std: 0.10648, params: {'masker__threshold': 0.5, 'anova__k': 500, 'svc__C': 0.01},\n",
       " mean: 0.67704, std: 0.23449, params: {'masker__threshold': 0.5, 'anova__k': 500, 'svc__C': 0.1},\n",
       " mean: 0.69055, std: 0.12342, params: {'masker__threshold': 0.5, 'anova__k': 500, 'svc__C': 1},\n",
       " mean: 0.64498, std: 0.15826, params: {'masker__threshold': 0.5, 'anova__k': 500, 'svc__C': 10},\n",
       " mean: 0.64498, std: 0.15826, params: {'masker__threshold': 0.5, 'anova__k': 500, 'svc__C': 100},\n",
       " mean: 0.04622, std: 0.10648, params: {'masker__threshold': 0.7, 'anova__k': 500, 'svc__C': 0.01},\n",
       " mean: 0.66234, std: 0.21544, params: {'masker__threshold': 0.7, 'anova__k': 500, 'svc__C': 0.1},\n",
       " mean: 0.64721, std: 0.21868, params: {'masker__threshold': 0.7, 'anova__k': 500, 'svc__C': 1},\n",
       " mean: 0.57010, std: 0.18430, params: {'masker__threshold': 0.7, 'anova__k': 500, 'svc__C': 10},\n",
       " mean: 0.57010, std: 0.18430, params: {'masker__threshold': 0.7, 'anova__k': 500, 'svc__C': 100},\n",
       " mean: 0.00000, std: 0.00000, params: {'masker__threshold': 0.9, 'anova__k': 500, 'svc__C': 0.01},\n",
       " mean: 0.62851, std: 0.20513, params: {'masker__threshold': 0.9, 'anova__k': 500, 'svc__C': 0.1},\n",
       " mean: 0.49482, std: 0.21033, params: {'masker__threshold': 0.9, 'anova__k': 500, 'svc__C': 1},\n",
       " mean: 0.49188, std: 0.13439, params: {'masker__threshold': 0.9, 'anova__k': 500, 'svc__C': 10},\n",
       " mean: 0.45734, std: 0.17316, params: {'masker__threshold': 0.9, 'anova__k': 500, 'svc__C': 100}]"
      ]
     },
     "execution_count": 38,
     "metadata": {},
     "output_type": "execute_result"
    }
   ],
   "source": [
    "grid_lin.grid_scores_"
   ]
  },
  {
   "cell_type": "code",
   "execution_count": 39,
   "metadata": {
    "collapsed": false
   },
   "outputs": [
    {
     "data": {
      "text/plain": [
       "0.71670168067226891"
      ]
     },
     "execution_count": 39,
     "metadata": {},
     "output_type": "execute_result"
    }
   ],
   "source": [
    "grid_lin.best_score_"
   ]
  },
  {
   "cell_type": "code",
   "execution_count": 40,
   "metadata": {
    "collapsed": false
   },
   "outputs": [
    {
     "data": {
      "text/plain": [
       "{'anova__k': 50, 'masker__threshold': 0.5, 'svc__C': 1}"
      ]
     },
     "execution_count": 40,
     "metadata": {},
     "output_type": "execute_result"
    }
   ],
   "source": [
    "grid_lin.best_params_"
   ]
  },
  {
   "cell_type": "code",
   "execution_count": null,
   "metadata": {
    "collapsed": true
   },
   "outputs": [],
   "source": []
  }
 ],
 "metadata": {
  "kernelspec": {
   "display_name": "Python 2",
   "language": "python",
   "name": "python2"
  },
  "language_info": {
   "codemirror_mode": {
    "name": "ipython",
    "version": 2
   },
   "file_extension": ".py",
   "mimetype": "text/x-python",
   "name": "python",
   "nbconvert_exporter": "python",
   "pygments_lexer": "ipython2",
   "version": "2.7.11"
  }
 },
 "nbformat": 4,
 "nbformat_minor": 0
}

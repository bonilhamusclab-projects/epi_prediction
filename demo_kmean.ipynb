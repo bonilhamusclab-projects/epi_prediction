{
 "cells": [
  {
   "cell_type": "code",
   "execution_count": 10,
   "metadata": {
    "collapsed": true
   },
   "outputs": [],
   "source": [
    "%matplotlib inline"
   ]
  },
  {
   "cell_type": "markdown",
   "metadata": {},
   "source": [
    "##Import Data"
   ]
  },
  {
   "cell_type": "code",
   "execution_count": 11,
   "metadata": {
    "collapsed": true
   },
   "outputs": [],
   "source": [
    "import epi_prediction\n",
    "src_dir = '/Users/johnbonihalab/data/chuyu/modalities'\n",
    "control_filter = lambda file_name: 'CON' in file_name\n",
    "patient_filter = lambda file_name: 'PAT' in file_name"
   ]
  },
  {
   "cell_type": "code",
   "execution_count": 12,
   "metadata": {
    "collapsed": true
   },
   "outputs": [],
   "source": [
    "epi_paths = epi_prediction.get_epi_paths(src_dir, patient_filter, control_filter)"
   ]
  },
  {
   "cell_type": "code",
   "execution_count": 13,
   "metadata": {
    "collapsed": true
   },
   "outputs": [],
   "source": [
    "mod_paths = epi_paths['kmean']"
   ]
  },
  {
   "cell_type": "code",
   "execution_count": 14,
   "metadata": {
    "collapsed": false
   },
   "outputs": [
    {
     "data": {
      "text/plain": [
       "cons    [/Users/johnbonihalab/data/chuyu/modalities/km...\n",
       "pats    [/Users/johnbonihalab/data/chuyu/modalities/km...\n",
       "Name: kmean, dtype: object"
      ]
     },
     "execution_count": 14,
     "metadata": {},
     "output_type": "execute_result"
    }
   ],
   "source": [
    "mod_paths"
   ]
  },
  {
   "cell_type": "code",
   "execution_count": 15,
   "metadata": {
    "collapsed": true
   },
   "outputs": [],
   "source": [
    "labels = len(mod_paths['pats']) * [1] + len(mod_paths['cons']) * [0]"
   ]
  },
  {
   "cell_type": "code",
   "execution_count": 16,
   "metadata": {
    "collapsed": false
   },
   "outputs": [
    {
     "data": {
      "text/plain": [
       "68"
      ]
     },
     "execution_count": 16,
     "metadata": {},
     "output_type": "execute_result"
    }
   ],
   "source": [
    "len(labels)"
   ]
  },
  {
   "cell_type": "markdown",
   "metadata": {},
   "source": [
    "##Load White Matter Mask"
   ]
  },
  {
   "cell_type": "code",
   "execution_count": 17,
   "metadata": {
    "collapsed": true
   },
   "outputs": [],
   "source": [
    "white_matter = epi_prediction.SimpleMasker('masks/white.nii', threshold=.2)"
   ]
  },
  {
   "cell_type": "code",
   "execution_count": 18,
   "metadata": {
    "collapsed": false
   },
   "outputs": [
    {
     "name": "stdout",
     "output_type": "stream",
     "text": [
      "--------------------------------------------------------------------\n",
      "####################################################################"
     ]
    }
   ],
   "source": [
    "mat = white_matter.transform_many(mod_paths['pats'] + mod_paths['cons'], verbose=True)"
   ]
  },
  {
   "cell_type": "markdown",
   "metadata": {},
   "source": [
    "##Retrieve the Voxels"
   ]
  },
  {
   "cell_type": "markdown",
   "metadata": {},
   "source": [
    "__Retrieving Important Voxels Requires Linear Classifier__"
   ]
  },
  {
   "cell_type": "code",
   "execution_count": 19,
   "metadata": {
    "collapsed": true
   },
   "outputs": [],
   "source": [
    "from nilearn.input_data import NiftiMasker\n",
    "import numpy as np\n",
    "from sklearn.cross_validation import StratifiedKFold, cross_val_score\n",
    "from sklearn.feature_selection import SelectKBest, f_classif\n",
    "from sklearn.grid_search import GridSearchCV\n",
    "from sklearn.pipeline import Pipeline\n",
    "from sklearn.svm import SVC"
   ]
  },
  {
   "cell_type": "code",
   "execution_count": 20,
   "metadata": {
    "collapsed": true
   },
   "outputs": [],
   "source": [
    "n_folds = 6\n",
    "svc = SVC()\n",
    "anova_svc_lin = Pipeline( [('anova', SelectKBest(k=500)), ('svc', svc)] )\n",
    "anova_svc_lin.set_params(svc__kernel='linear')\n",
    "cv = StratifiedKFold(labels, n_folds=6)\n",
    "labels_arr = np.array(labels)"
   ]
  },
  {
   "cell_type": "code",
   "execution_count": 21,
   "metadata": {
    "collapsed": false
   },
   "outputs": [
    {
     "name": "stdout",
     "output_type": "stream",
     "text": [
      "------------------------------------------\n",
      "##########################################"
     ]
    },
    {
     "name": "stderr",
     "output_type": "stream",
     "text": [
      "//anaconda/lib/python2.7/site-packages/sklearn/metrics/classification.py:958: UndefinedMetricWarning: F-score is ill-defined and being set to 0.0 due to no predicted samples.\n",
      "  'precision', 'predicted', average, warn_for)\n"
     ]
    },
    {
     "data": {
      "text/plain": [
       "GridSearchCV(cv=sklearn.cross_validation.StratifiedKFold(labels=[1 1 ..., 0 0], n_folds=6, shuffle=False, random_state=None),\n",
       "       error_score='raise',\n",
       "       estimator=Pipeline(steps=[('anova', SelectKBest(k=500, score_func=<function f_classif at 0x10c8a6e60>)), ('svc', SVC(C=1.0, cache_size=200, class_weight=None, coef0=0.0, degree=3, gamma=0.0,\n",
       "  kernel='linear', max_iter=-1, probability=False, random_state=None,\n",
       "  shrinking=True, tol=0.001, verbose=False))]),\n",
       "       fit_params={}, iid=True, loss_func=None, n_jobs=1,\n",
       "       param_grid={'anova__k': [500], 'svc__C': array([  1.00000e-03,   1.00000e-02,   1.00000e-01,   1.00000e+00,\n",
       "         1.00000e+01,   1.00000e+02,   1.00000e+03])},\n",
       "       pre_dispatch='2*n_jobs', refit=True, score_func=None,\n",
       "       scoring=make_scorer(verbose_score_fn), verbose=0)"
      ]
     },
     "execution_count": 21,
     "metadata": {},
     "output_type": "execute_result"
    }
   ],
   "source": [
    "C_range_lin = np.logspace(-3, 3, 7)\n",
    "#k_range = np.linspace(500,2000,3).astype(int)\n",
    "k_range=[500]\n",
    "\n",
    "total_runs = len(C_range_lin) * n_folds\n",
    "\n",
    "scorer = epi_prediction.verbose_scorer(total_runs)\n",
    "grid_lin = GridSearchCV(anova_svc_lin, param_grid={\"svc__C\": C_range_lin,\"anova__k\" :k_range}, cv=cv, scoring = scorer)\n",
    "\n",
    "grid_lin.fit(mat, labels_arr)"
   ]
  },
  {
   "cell_type": "code",
   "execution_count": 22,
   "metadata": {
    "collapsed": false
   },
   "outputs": [
    {
     "data": {
      "text/plain": [
       "[mean: 0.00000, std: 0.00000, params: {'anova__k': 500, 'svc__C': 0.001},\n",
       " mean: 0.68717, std: 0.19456, params: {'anova__k': 500, 'svc__C': 0.01},\n",
       " mean: 0.68717, std: 0.19456, params: {'anova__k': 500, 'svc__C': 0.10000000000000001},\n",
       " mean: 0.74647, std: 0.23795, params: {'anova__k': 500, 'svc__C': 1.0},\n",
       " mean: 0.72475, std: 0.22658, params: {'anova__k': 500, 'svc__C': 10.0},\n",
       " mean: 0.72475, std: 0.22658, params: {'anova__k': 500, 'svc__C': 100.0},\n",
       " mean: 0.72475, std: 0.22658, params: {'anova__k': 500, 'svc__C': 1000.0}]"
      ]
     },
     "execution_count": 22,
     "metadata": {},
     "output_type": "execute_result"
    }
   ],
   "source": [
    "grid_lin.grid_scores_"
   ]
  },
  {
   "cell_type": "code",
   "execution_count": 23,
   "metadata": {
    "collapsed": false
   },
   "outputs": [
    {
     "data": {
      "text/plain": [
       "Pipeline(steps=[('anova', SelectKBest(k=500, score_func=<function f_classif at 0x10c8a6e60>)), ('svc', SVC(C=1, cache_size=200, class_weight=None, coef0=0.0, degree=3, gamma=0.0,\n",
       "  kernel='linear', max_iter=-1, probability=False, random_state=None,\n",
       "  shrinking=True, tol=0.001, verbose=False))])"
      ]
     },
     "execution_count": 23,
     "metadata": {},
     "output_type": "execute_result"
    }
   ],
   "source": [
    "anova_svc_lin.set_params(svc__C=1, anova__k=500)"
   ]
  },
  {
   "cell_type": "code",
   "execution_count": 24,
   "metadata": {
    "collapsed": true
   },
   "outputs": [],
   "source": [
    "svc = anova_svc_lin.named_steps['svc']\n",
    "anova = anova_svc_lin.named_steps['anova']"
   ]
  },
  {
   "cell_type": "code",
   "execution_count": 25,
   "metadata": {
    "collapsed": true
   },
   "outputs": [],
   "source": [
    "coeffs = np.zeros(white_matter._mask_image.shape)\n",
    "for train, test in cv:\n",
    "    anova_svc_lin.fit(mat[train], labels_arr[train])\n",
    "    coeffs = coeffs + np.abs(white_matter.inv_transform(anova.inverse_transform(svc.coef_)))"
   ]
  },
  {
   "cell_type": "code",
   "execution_count": 26,
   "metadata": {
    "collapsed": false
   },
   "outputs": [
    {
     "data": {
      "text/plain": [
       "(91, 109, 91)"
      ]
     },
     "execution_count": 26,
     "metadata": {},
     "output_type": "execute_result"
    }
   ],
   "source": [
    "coeffs.shape"
   ]
  },
  {
   "cell_type": "code",
   "execution_count": 52,
   "metadata": {
    "collapsed": false
   },
   "outputs": [
    {
     "data": {
      "image/png": "[encoded data removed]",
      "text/plain": [
       "<matplotlib.figure.Figure at 0x105601dd0>"
      ]
     },
     "metadata": {},
     "output_type": "display_data"
    },
    {
     "data": {
      "image/png": "[encoded data removed]",
      "text/plain": [
       "<matplotlib.figure.Figure at 0x11c329610>"
      ]
     },
     "metadata": {},
     "output_type": "display_data"
    }
   ],
   "source": [
    "reload(epi_prediction)\n",
    "\n",
    "title='kMean'\n",
    "epi_prediction.plot_coeffs(coeffs, white_matter._mask_image.get_affine(), title)\n",
    "epi_prediction.plot_bw_coeffs(coeffs, white_matter._mask_image.get_affine(), title)\n",
    "epi_prediction.plot_bw_coeffs(coeffs, white_matter._mask_image.get_affine(), title, \n",
    "                           output_file=title+'_bw')\n",
    "\n",
    "#plt.hist((coeffs/np.max(coeffs)).flatten());\n",
    "#plt.show()\n",
    "#for r in np.arange(0, 1, .1):\n",
    "#    print \"%s by %s\" % (r, np.sum(coeffs > r))"
   ]
  },
  {
   "cell_type": "code",
   "execution_count": 19,
   "metadata": {
    "collapsed": false
   },
   "outputs": [
    {
     "data": {
      "text/plain": [
       "1681"
      ]
     },
     "execution_count": 19,
     "metadata": {},
     "output_type": "execute_result"
    }
   ],
   "source": [
    "np.sum(coeffs_normalized > 0)"
   ]
  },
  {
   "cell_type": "markdown",
   "metadata": {},
   "source": [
    "##Generate Linear Confusion Matrix"
   ]
  },
  {
   "cell_type": "code",
   "execution_count": 20,
   "metadata": {
    "collapsed": false
   },
   "outputs": [
    {
     "name": "stdout",
     "output_type": "stream",
     "text": [
      "####\n",
      "####\n",
      "####\n",
      "####\n",
      "####\n",
      "####\n"
     ]
    }
   ],
   "source": [
    "cv_info_lin, cv_info_train_lin = epi_prediction.verbose_cv(mat, labels_arr, anova_svc_lin, n_folds=6, verbose=False)"
   ]
  },
  {
   "cell_type": "code",
   "execution_count": 21,
   "metadata": {
    "collapsed": false
   },
   "outputs": [
    {
     "data": {
      "text/plain": [
       "0.7678571428571429"
      ]
     },
     "execution_count": 21,
     "metadata": {},
     "output_type": "execute_result"
    }
   ],
   "source": [
    "cv_info_lin.avg_precision()"
   ]
  },
  {
   "cell_type": "code",
   "execution_count": 22,
   "metadata": {
    "collapsed": false
   },
   "outputs": [
    {
     "data": {
      "text/plain": [
       "0.74444444444444446"
      ]
     },
     "execution_count": 22,
     "metadata": {},
     "output_type": "execute_result"
    }
   ],
   "source": [
    "cv_info_lin.avg_recall()"
   ]
  },
  {
   "cell_type": "code",
   "execution_count": 23,
   "metadata": {
    "collapsed": false
   },
   "outputs": [
    {
     "data": {
      "text/plain": [
       "[array([1, 1, 1, 1, 1, 1, 0, 0, 0, 0, 0, 0]),\n",
       " array([1, 1, 1, 1, 1, 1, 0, 0, 0, 0, 0, 0]),\n",
       " array([1, 1, 1, 1, 1, 0, 0, 0, 0, 0, 0]),\n",
       " array([1, 1, 1, 1, 1, 0, 0, 0, 0, 0, 0]),\n",
       " array([1, 1, 1, 1, 1, 0, 0, 0, 0, 0, 0]),\n",
       " array([1, 1, 1, 1, 1, 0, 0, 0, 0, 0, 0])]"
      ]
     },
     "execution_count": 23,
     "metadata": {},
     "output_type": "execute_result"
    }
   ],
   "source": [
    "cv_info_lin.expected_mat"
   ]
  },
  {
   "cell_type": "code",
   "execution_count": 24,
   "metadata": {
    "collapsed": false
   },
   "outputs": [
    {
     "data": {
      "text/plain": [
       "array([[6, 0],\n",
       "       [2, 4]])"
      ]
     },
     "execution_count": 24,
     "metadata": {},
     "output_type": "execute_result"
    }
   ],
   "source": [
    "from sklearn.metrics import confusion_matrix\n",
    "\n",
    "confusion_matrix(cv_info_lin.expected_mat[0], cv_info_lin.predicted_mat[0])"
   ]
  },
  {
   "cell_type": "code",
   "execution_count": 25,
   "metadata": {
    "collapsed": false
   },
   "outputs": [
    {
     "data": {
      "text/plain": [
       "array([[30,  6],\n",
       "       [ 8, 24]])"
      ]
     },
     "execution_count": 25,
     "metadata": {},
     "output_type": "execute_result"
    }
   ],
   "source": [
    "cv_info_lin.confusion_matrix()"
   ]
  },
  {
   "cell_type": "code",
   "execution_count": 26,
   "metadata": {
    "collapsed": false
   },
   "outputs": [
    {
     "data": {
      "text/plain": [
       "array([[ 0.83333333,  0.16666667],\n",
       "       [ 0.25      ,  0.75      ]])"
      ]
     },
     "execution_count": 26,
     "metadata": {},
     "output_type": "execute_result"
    }
   ],
   "source": [
    "cv_info_lin.normalized_confusion_matrix()"
   ]
  },
  {
   "cell_type": "code",
   "execution_count": 27,
   "metadata": {
    "collapsed": false
   },
   "outputs": [
    {
     "data": {
      "image/png": "[encoded data removed]"
     },
     "metadata": {},
     "output_type": "display_data"
    }
   ],
   "source": [
    "epi_prediction.plot_confusion_matrix(cv_info_lin.normalized_confusion_matrix(), \"kMean Confusion Matrix\")"
   ]
  },
  {
   "cell_type": "code",
   "execution_count": 28,
   "metadata": {
    "collapsed": false
   },
   "outputs": [
    {
     "data": {
      "text/plain": [
       "0.74298756798756793"
      ]
     },
     "execution_count": 28,
     "metadata": {},
     "output_type": "execute_result"
    }
   ],
   "source": [
    "cv_info_lin.avg_f1_score()"
   ]
  },
  {
   "cell_type": "code",
   "execution_count": 29,
   "metadata": {
    "collapsed": false
   },
   "outputs": [
    {
     "data": {
      "text/plain": [
       "0.74444444444444446"
      ]
     },
     "execution_count": 29,
     "metadata": {},
     "output_type": "execute_result"
    }
   ],
   "source": [
    "cv_info_lin.avg_sensitivity_score()"
   ]
  },
  {
   "cell_type": "code",
   "execution_count": 30,
   "metadata": {
    "collapsed": false
   },
   "outputs": [
    {
     "data": {
      "text/plain": [
       "0.83333333333333337"
      ]
     },
     "execution_count": 30,
     "metadata": {},
     "output_type": "execute_result"
    }
   ],
   "source": [
    "cv_info_lin.avg_specificity_score()"
   ]
  },
  {
   "cell_type": "markdown",
   "metadata": {},
   "source": [
    "### Normalize Matrix Z-score"
   ]
  },
  {
   "cell_type": "code",
   "execution_count": 28,
   "metadata": {
    "collapsed": false
   },
   "outputs": [
    {
     "name": "stdout",
     "output_type": "stream",
     "text": [
      "0 columns fin.\n",
      "50000 columns fin.\n",
      "100000 columns fin.\n"
     ]
    }
   ],
   "source": [
    "from scipy.stats.mstats import zscore\n",
    "\n",
    "X = mat.copy()\n",
    "for col in xrange(X.shape[1]):\n",
    "    if col % 50000 == 0:\n",
    "        print '{} columns fin.'.format(col)\n",
    "    X[:,col] = zscore(X[:,col]) \n",
    "    X[:,col] = X[:,col] / np.sqrt( sum( [ x**2 for x in X[:,col] ] ) )"
   ]
  },
  {
   "cell_type": "code",
   "execution_count": 29,
   "metadata": {
    "collapsed": false
   },
   "outputs": [
    {
     "data": {
      "text/plain": [
       "(68, 134263)"
      ]
     },
     "execution_count": 29,
     "metadata": {},
     "output_type": "execute_result"
    }
   ],
   "source": [
    "mat.shape"
   ]
  },
  {
   "cell_type": "markdown",
   "metadata": {},
   "source": [
    "<b><h3> Grid Search params := ( $k_{best}$,C ,$T_{mask}$, norm= (True || False) ) </h3></b>"
   ]
  },
  {
   "cell_type": "code",
   "execution_count": 30,
   "metadata": {
    "collapsed": false
   },
   "outputs": [
    {
     "name": "stdout",
     "output_type": "stream",
     "text": [
      "(68, 134263)\n"
     ]
    }
   ],
   "source": [
    "print mat.shape"
   ]
  },
  {
   "cell_type": "code",
   "execution_count": 31,
   "metadata": {
    "collapsed": true
   },
   "outputs": [],
   "source": [
    "mat_normalized = X"
   ]
  },
  {
   "cell_type": "code",
   "execution_count": 32,
   "metadata": {
    "collapsed": false
   },
   "outputs": [
    {
     "name": "stdout",
     "output_type": "stream",
     "text": [
      "####"
     ]
    },
    {
     "name": "stderr",
     "output_type": "stream",
     "text": [
      "//anaconda/lib/python2.7/site-packages/sklearn/feature_selection/univariate_selection.py:111: UserWarning: Features [102689] are constant.\n",
      "  UserWarning)\n",
      "//anaconda/lib/python2.7/site-packages/sklearn/feature_selection/univariate_selection.py:111: UserWarning: Features [87575 93929] are constant.\n",
      "  UserWarning)\n"
     ]
    },
    {
     "name": "stdout",
     "output_type": "stream",
     "text": [
      "######################################"
     ]
    },
    {
     "data": {
      "text/plain": [
       "GridSearchCV(cv=sklearn.cross_validation.StratifiedKFold(labels=[1 1 ..., 0 0], n_folds=6, shuffle=False, random_state=None),\n",
       "       error_score='raise',\n",
       "       estimator=Pipeline(steps=[('anova', SelectKBest(k=500, score_func=<function f_classif at 0x10c3e2050>)), ('svc', SVC(C=1, cache_size=200, class_weight=None, coef0=0.0, degree=3, gamma=0.0,\n",
       "  kernel='linear', max_iter=-1, probability=False, random_state=None,\n",
       "  shrinking=True, tol=0.001, verbose=False))]),\n",
       "       fit_params={}, iid=True, loss_func=None, n_jobs=1,\n",
       "       param_grid={'svc__C': array([  1.00000e-03,   1.00000e-02,   1.00000e-01,   1.00000e+00,\n",
       "         1.00000e+01,   1.00000e+02,   1.00000e+03])},\n",
       "       pre_dispatch='2*n_jobs', refit=True, score_func=None,\n",
       "       scoring=make_scorer(verbose_score_fn), verbose=0)"
      ]
     },
     "execution_count": 32,
     "metadata": {},
     "output_type": "execute_result"
    }
   ],
   "source": [
    "grid_lin_normalized = GridSearchCV(anova_svc_lin, param_grid={\"svc__C\": C_range_lin}, cv=cv, scoring = scorer)\n",
    "grid_lin_normalized.fit(mat_normalized, labels_arr)"
   ]
  },
  {
   "cell_type": "code",
   "execution_count": 33,
   "metadata": {
    "collapsed": false
   },
   "outputs": [
    {
     "data": {
      "text/plain": [
       "[mean: 0.00000, std: 0.00000, params: {'svc__C': 0.001},\n",
       " mean: 0.70432, std: 0.20210, params: {'svc__C': 0.01},\n",
       " mean: 0.71315, std: 0.18574, params: {'svc__C': 0.10000000000000001},\n",
       " mean: 0.72475, std: 0.22658, params: {'svc__C': 1.0},\n",
       " mean: 0.73484, std: 0.23080, params: {'svc__C': 10.0},\n",
       " mean: 0.73484, std: 0.23080, params: {'svc__C': 100.0},\n",
       " mean: 0.73484, std: 0.23080, params: {'svc__C': 1000.0}]"
      ]
     },
     "execution_count": 33,
     "metadata": {},
     "output_type": "execute_result"
    }
   ],
   "source": [
    "grid_lin_normalized.grid_scores_"
   ]
  },
  {
   "cell_type": "markdown",
   "metadata": {},
   "source": [
    "### White Matter Threshold"
   ]
  },
  {
   "cell_type": "code",
   "execution_count": 34,
   "metadata": {
    "collapsed": true
   },
   "outputs": [],
   "source": [
    "all_fs = mod_paths['pats'] + mod_paths['cons']"
   ]
  },
  {
   "cell_type": "code",
   "execution_count": 35,
   "metadata": {
    "collapsed": false
   },
   "outputs": [
    {
     "name": "stdout",
     "output_type": "stream",
     "text": [
      "--------------------------------------------------------------------\n",
      "####################################################################"
     ]
    }
   ],
   "source": [
    "import sys\n",
    "\n",
    "import nilearn as nil\n",
    "\n",
    "wm_image = nib.load('masks/white.nii')\n",
    "\n",
    "def verbose_load(f):\n",
    "    sys.stdout.write('#')\n",
    "    return nil.image.resample_img(f, \n",
    "                                  target_shape=wm_image.shape, \n",
    "                                  target_affine=wm_image.get_affine())\n",
    "\n",
    "print('-' * len(all_fs))\n",
    "    \n",
    "all_data = np.vstack([verbose_load(f).get_data().flatten() for f in all_fs])"
   ]
  },
  {
   "cell_type": "code",
   "execution_count": 36,
   "metadata": {
    "collapsed": false
   },
   "outputs": [
    {
     "data": {
      "text/plain": [
       "(68, 902629)"
      ]
     },
     "execution_count": 36,
     "metadata": {},
     "output_type": "execute_result"
    }
   ],
   "source": [
    "all_data.shape"
   ]
  },
  {
   "cell_type": "code",
   "execution_count": 96,
   "metadata": {
    "collapsed": true
   },
   "outputs": [],
   "source": [
    "reload(epi_prediction)\n",
    "white_matter_pipe = epi_prediction.SimpleMaskerPipeline(threshold=0)"
   ]
  },
  {
   "cell_type": "code",
   "execution_count": 97,
   "metadata": {
    "collapsed": true
   },
   "outputs": [],
   "source": [
    "normalizer = epi_prediction.NormalizerPipeline(normalize_flag=False)"
   ]
  },
  {
   "cell_type": "code",
   "execution_count": 98,
   "metadata": {
    "collapsed": true
   },
   "outputs": [],
   "source": [
    "wm_norm_anova_svc = Pipeline( [('masker', white_matter_pipe),\n",
    "                              ('anova', SelectKBest(k=500)), \n",
    "                              ('svc', svc)] )"
   ]
  },
  {
   "cell_type": "code",
   "execution_count": 101,
   "metadata": {
    "collapsed": false
   },
   "outputs": [
    {
     "name": "stdout",
     "output_type": "stream",
     "text": [
      "------------------------------------------------------------------------------------------------------------------------------------------------------------------------------------------------------------------------------------------------------------------------------------------------------------------------------------------------------------------------------------------------------------------------------------------------------------------------------------------------\n",
      "########################################################################################################################################################################################################################################################################################################################################################################"
     ]
    },
    {
     "data": {
      "text/plain": [
       "GridSearchCV(cv=sklearn.cross_validation.StratifiedKFold(labels=[1 1 ..., 0 0], n_folds=6, shuffle=False, random_state=None),\n",
       "       error_score='raise',\n",
       "       estimator=Pipeline(steps=[('masker', SimpleMaskerPipeline(threshold=0)), ('anova', SelectKBest(k=500, score_func=<function f_classif at 0x10c3e2050>)), ('svc', SVC(C=1, cache_size=200, class_weight=None, coef0=0.0, degree=3, gamma=0.0,\n",
       "  kernel='linear', max_iter=-1, probability=False, random_state=None,\n",
       "  shrinking=True, tol=0.001, verbose=False))]),\n",
       "       fit_params={}, iid=True, loss_func=None, n_jobs=1,\n",
       "       param_grid={'masker__threshold': [0.2, 0.5, 0.7, 0.9], 'anova__k': [50, 250, 500], 'svc__C': [0.01, 0.1, 1, 10, 100]},\n",
       "       pre_dispatch='2*n_jobs', refit=True, score_func=None,\n",
       "       scoring=make_scorer(verbose_score_fn), verbose=0)"
      ]
     },
     "execution_count": 101,
     "metadata": {},
     "output_type": "execute_result"
    }
   ],
   "source": [
    "param_grid={\"svc__C\": [.01, .1, 1, 10, 100],\n",
    "            \"masker__threshold\" :[.2, .5, .7, .9],\n",
    "            \"anova__k\": [50, 250, 500]\n",
    "           }\n",
    "\n",
    "print(\"-\" * 2 * 5  * 2 * 4 * 2 * 3)\n",
    "grid_lin = GridSearchCV(wm_norm_anova_svc, param_grid=param_grid, cv=cv, scoring = scorer)\n",
    "grid_lin.fit(all_data, labels_arr)"
   ]
  },
  {
   "cell_type": "code",
   "execution_count": 102,
   "metadata": {
    "collapsed": false
   },
   "outputs": [
    {
     "data": {
      "text/plain": [
       "[mean: 0.00000, std: 0.00000, params: {'masker__threshold': 0.2, 'anova__k': 50, 'svc__C': 0.01},\n",
       " mean: 0.70406, std: 0.21748, params: {'masker__threshold': 0.2, 'anova__k': 50, 'svc__C': 0.1},\n",
       " mean: 0.70504, std: 0.22074, params: {'masker__threshold': 0.2, 'anova__k': 50, 'svc__C': 1},\n",
       " mean: 0.70172, std: 0.22135, params: {'masker__threshold': 0.2, 'anova__k': 50, 'svc__C': 10},\n",
       " mean: 0.71658, std: 0.18739, params: {'masker__threshold': 0.2, 'anova__k': 50, 'svc__C': 100},\n",
       " mean: 0.00000, std: 0.00000, params: {'masker__threshold': 0.5, 'anova__k': 50, 'svc__C': 0.01},\n",
       " mean: 0.70406, std: 0.21748, params: {'masker__threshold': 0.5, 'anova__k': 50, 'svc__C': 0.1},\n",
       " mean: 0.68151, std: 0.21644, params: {'masker__threshold': 0.5, 'anova__k': 50, 'svc__C': 1},\n",
       " mean: 0.67574, std: 0.21838, params: {'masker__threshold': 0.5, 'anova__k': 50, 'svc__C': 10},\n",
       " mean: 0.71818, std: 0.18739, params: {'masker__threshold': 0.5, 'anova__k': 50, 'svc__C': 100},\n",
       " mean: 0.00000, std: 0.00000, params: {'masker__threshold': 0.7, 'anova__k': 50, 'svc__C': 0.01},\n",
       " mean: 0.67304, std: 0.21265, params: {'masker__threshold': 0.7, 'anova__k': 50, 'svc__C': 0.1},\n",
       " mean: 0.70000, std: 0.19892, params: {'masker__threshold': 0.7, 'anova__k': 50, 'svc__C': 1},\n",
       " mean: 0.68347, std: 0.19750, params: {'masker__threshold': 0.7, 'anova__k': 50, 'svc__C': 10},\n",
       " mean: 0.69690, std: 0.15455, params: {'masker__threshold': 0.7, 'anova__k': 50, 'svc__C': 100},\n",
       " mean: 0.00000, std: 0.00000, params: {'masker__threshold': 0.9, 'anova__k': 50, 'svc__C': 0.01},\n",
       " mean: 0.60751, std: 0.26893, params: {'masker__threshold': 0.9, 'anova__k': 50, 'svc__C': 0.1},\n",
       " mean: 0.66359, std: 0.21773, params: {'masker__threshold': 0.9, 'anova__k': 50, 'svc__C': 1},\n",
       " mean: 0.68317, std: 0.19971, params: {'masker__threshold': 0.9, 'anova__k': 50, 'svc__C': 10},\n",
       " mean: 0.78959, std: 0.11638, params: {'masker__threshold': 0.9, 'anova__k': 50, 'svc__C': 100},\n",
       " mean: 0.56356, std: 0.32713, params: {'masker__threshold': 0.2, 'anova__k': 250, 'svc__C': 0.01},\n",
       " mean: 0.68717, std: 0.19456, params: {'masker__threshold': 0.2, 'anova__k': 250, 'svc__C': 0.1},\n",
       " mean: 0.69034, std: 0.20211, params: {'masker__threshold': 0.2, 'anova__k': 250, 'svc__C': 1},\n",
       " mean: 0.71933, std: 0.22511, params: {'masker__threshold': 0.2, 'anova__k': 250, 'svc__C': 10},\n",
       " mean: 0.71933, std: 0.22511, params: {'masker__threshold': 0.2, 'anova__k': 250, 'svc__C': 100},\n",
       " mean: 0.58154, std: 0.34727, params: {'masker__threshold': 0.5, 'anova__k': 250, 'svc__C': 0.01},\n",
       " mean: 0.68717, std: 0.19456, params: {'masker__threshold': 0.5, 'anova__k': 250, 'svc__C': 0.1},\n",
       " mean: 0.66681, std: 0.19569, params: {'masker__threshold': 0.5, 'anova__k': 250, 'svc__C': 1},\n",
       " mean: 0.68884, std: 0.20891, params: {'masker__threshold': 0.5, 'anova__k': 250, 'svc__C': 10},\n",
       " mean: 0.68884, std: 0.20891, params: {'masker__threshold': 0.5, 'anova__k': 250, 'svc__C': 100},\n",
       " mean: 0.51495, std: 0.28281, params: {'masker__threshold': 0.7, 'anova__k': 250, 'svc__C': 0.01},\n",
       " mean: 0.70432, std: 0.20210, params: {'masker__threshold': 0.7, 'anova__k': 250, 'svc__C': 0.1},\n",
       " mean: 0.71716, std: 0.20526, params: {'masker__threshold': 0.7, 'anova__k': 250, 'svc__C': 1},\n",
       " mean: 0.72265, std: 0.22713, params: {'masker__threshold': 0.7, 'anova__k': 250, 'svc__C': 10},\n",
       " mean: 0.71296, std: 0.22607, params: {'masker__threshold': 0.7, 'anova__k': 250, 'svc__C': 100},\n",
       " mean: 0.43964, std: 0.26677, params: {'masker__threshold': 0.9, 'anova__k': 250, 'svc__C': 0.01},\n",
       " mean: 0.68571, std: 0.21853, params: {'masker__threshold': 0.9, 'anova__k': 250, 'svc__C': 0.1},\n",
       " mean: 0.72304, std: 0.20787, params: {'masker__threshold': 0.9, 'anova__k': 250, 'svc__C': 1},\n",
       " mean: 0.71279, std: 0.20966, params: {'masker__threshold': 0.9, 'anova__k': 250, 'svc__C': 10},\n",
       " mean: 0.69666, std: 0.16434, params: {'masker__threshold': 0.9, 'anova__k': 250, 'svc__C': 100},\n",
       " mean: 0.68717, std: 0.19456, params: {'masker__threshold': 0.2, 'anova__k': 500, 'svc__C': 0.01},\n",
       " mean: 0.68717, std: 0.19456, params: {'masker__threshold': 0.2, 'anova__k': 500, 'svc__C': 0.1},\n",
       " mean: 0.74647, std: 0.23795, params: {'masker__threshold': 0.2, 'anova__k': 500, 'svc__C': 1},\n",
       " mean: 0.72475, std: 0.22658, params: {'masker__threshold': 0.2, 'anova__k': 500, 'svc__C': 10},\n",
       " mean: 0.72475, std: 0.22658, params: {'masker__threshold': 0.2, 'anova__k': 500, 'svc__C': 100},\n",
       " mean: 0.68717, std: 0.19456, params: {'masker__threshold': 0.5, 'anova__k': 500, 'svc__C': 0.01},\n",
       " mean: 0.68717, std: 0.19456, params: {'masker__threshold': 0.5, 'anova__k': 500, 'svc__C': 0.1},\n",
       " mean: 0.70381, std: 0.22755, params: {'masker__threshold': 0.5, 'anova__k': 500, 'svc__C': 1},\n",
       " mean: 0.68190, std: 0.21266, params: {'masker__threshold': 0.5, 'anova__k': 500, 'svc__C': 10},\n",
       " mean: 0.68190, std: 0.21266, params: {'masker__threshold': 0.5, 'anova__k': 500, 'svc__C': 100},\n",
       " mean: 0.67736, std: 0.21635, params: {'masker__threshold': 0.7, 'anova__k': 500, 'svc__C': 0.01},\n",
       " mean: 0.70432, std: 0.20210, params: {'masker__threshold': 0.7, 'anova__k': 500, 'svc__C': 0.1},\n",
       " mean: 0.71716, std: 0.20526, params: {'masker__threshold': 0.7, 'anova__k': 500, 'svc__C': 1},\n",
       " mean: 0.71461, std: 0.24842, params: {'masker__threshold': 0.7, 'anova__k': 500, 'svc__C': 10},\n",
       " mean: 0.71461, std: 0.24842, params: {'masker__threshold': 0.7, 'anova__k': 500, 'svc__C': 100},\n",
       " mean: 0.68962, std: 0.22706, params: {'masker__threshold': 0.9, 'anova__k': 500, 'svc__C': 0.01},\n",
       " mean: 0.71267, std: 0.20349, params: {'masker__threshold': 0.9, 'anova__k': 500, 'svc__C': 0.1},\n",
       " mean: 0.68284, std: 0.22669, params: {'masker__threshold': 0.9, 'anova__k': 500, 'svc__C': 1},\n",
       " mean: 0.70852, std: 0.13121, params: {'masker__threshold': 0.9, 'anova__k': 500, 'svc__C': 10},\n",
       " mean: 0.69697, std: 0.14559, params: {'masker__threshold': 0.9, 'anova__k': 500, 'svc__C': 100}]"
      ]
     },
     "execution_count": 102,
     "metadata": {},
     "output_type": "execute_result"
    }
   ],
   "source": [
    "grid_lin.grid_scores_"
   ]
  },
  {
   "cell_type": "code",
   "execution_count": 103,
   "metadata": {
    "collapsed": false
   },
   "outputs": [
    {
     "data": {
      "text/plain": [
       "0.78959276018099545"
      ]
     },
     "execution_count": 103,
     "metadata": {},
     "output_type": "execute_result"
    }
   ],
   "source": [
    "grid_lin.best_score_"
   ]
  },
  {
   "cell_type": "code",
   "execution_count": 106,
   "metadata": {
    "collapsed": false
   },
   "outputs": [
    {
     "data": {
      "text/plain": [
       "{'anova__k': 50, 'masker__threshold': 0.9, 'svc__C': 100}"
      ]
     },
     "execution_count": 106,
     "metadata": {},
     "output_type": "execute_result"
    }
   ],
   "source": [
    "grid_lin.best_params_"
   ]
  },
  {
   "cell_type": "code",
   "execution_count": null,
   "metadata": {
    "collapsed": true
   },
   "outputs": [],
   "source": []
  }
 ],
 "metadata": {
  "kernelspec": {
   "display_name": "Python 2",
   "language": "python",
   "name": "python2"
  },
  "language_info": {
   "codemirror_mode": {
    "name": "ipython",
    "version": 2
   },
   "file_extension": ".py",
   "mimetype": "text/x-python",
   "name": "python",
   "nbconvert_exporter": "python",
   "pygments_lexer": "ipython2",
   "version": "2.7.11"
  }
 },
 "nbformat": 4,
 "nbformat_minor": 0
}
